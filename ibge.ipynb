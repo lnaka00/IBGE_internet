{
 "cells": [
  {
   "cell_type": "code",
   "execution_count": 1165,
   "metadata": {},
   "outputs": [],
   "source": [
    "\n",
    "import pandas as pd\n",
    "import numpy as np\n",
    "import matplotlib.pyplot as plt\n",
    "from matplotlib import style\n",
    "import seaborn as sns\n",
    "import statsmodels.api as sm\n",
    "from scipy import stats\n",
    "from scipy.stats import pearsonr\n",
    "from sklearn.linear_model import LogisticRegression\n",
    "from sklearn.metrics import classification_report, confusion_matrix\n",
    "from sklearn.preprocessing import MinMaxScaler\n",
    "from sklearn.model_selection import train_test_split\n",
    "import pingouin\n",
    "import statsmodels\n",
    "from statsmodels.stats.proportion import proportions_ztest\n",
    "import researchpy as rp"
   ]
  },
  {
   "cell_type": "code",
   "execution_count": 1166,
   "metadata": {},
   "outputs": [],
   "source": [
    "data=pd.read_csv(\"/Users/luisnakayama/Desktop/ibge/data_internet.csv\")"
   ]
  },
  {
   "cell_type": "code",
   "execution_count": 1167,
   "metadata": {},
   "outputs": [
    {
     "data": {
      "text/html": [
       "<div>\n",
       "<style scoped>\n",
       "    .dataframe tbody tr th:only-of-type {\n",
       "        vertical-align: middle;\n",
       "    }\n",
       "\n",
       "    .dataframe tbody tr th {\n",
       "        vertical-align: top;\n",
       "    }\n",
       "\n",
       "    .dataframe thead th {\n",
       "        text-align: right;\n",
       "    }\n",
       "</style>\n",
       "<table border=\"1\" class=\"dataframe\">\n",
       "  <thead>\n",
       "    <tr style=\"text-align: right;\">\n",
       "      <th></th>\n",
       "      <th>id</th>\n",
       "      <th>state</th>\n",
       "      <th>region</th>\n",
       "      <th>house_type</th>\n",
       "      <th>internet</th>\n",
       "      <th>gender</th>\n",
       "      <th>age</th>\n",
       "      <th>race</th>\n",
       "      <th>educational_level</th>\n",
       "      <th>ultima_consulta_medico</th>\n",
       "      <th>dificuldade_atividades_diarias</th>\n",
       "      <th>diabetes_restriction</th>\n",
       "      <th>populacao</th>\n",
       "      <th>renda_per_capita</th>\n",
       "    </tr>\n",
       "  </thead>\n",
       "  <tbody>\n",
       "    <tr>\n",
       "      <th>0</th>\n",
       "      <td>1</td>\n",
       "      <td>rondonia</td>\n",
       "      <td>north</td>\n",
       "      <td>1</td>\n",
       "      <td>1</td>\n",
       "      <td>2</td>\n",
       "      <td>55</td>\n",
       "      <td>1.0</td>\n",
       "      <td>Antigo primário (elementar)</td>\n",
       "      <td>Até 1 ano</td>\n",
       "      <td>NaN</td>\n",
       "      <td>NaN</td>\n",
       "      <td>529479</td>\n",
       "      <td>350.0</td>\n",
       "    </tr>\n",
       "    <tr>\n",
       "      <th>1</th>\n",
       "      <td>2</td>\n",
       "      <td>rondonia</td>\n",
       "      <td>north</td>\n",
       "      <td>1</td>\n",
       "      <td>1</td>\n",
       "      <td>1</td>\n",
       "      <td>69</td>\n",
       "      <td>4.0</td>\n",
       "      <td>NaN</td>\n",
       "      <td>Até 1 ano</td>\n",
       "      <td>0.0</td>\n",
       "      <td>NaN</td>\n",
       "      <td>529479</td>\n",
       "      <td>350.0</td>\n",
       "    </tr>\n",
       "    <tr>\n",
       "      <th>2</th>\n",
       "      <td>3</td>\n",
       "      <td>rondonia</td>\n",
       "      <td>north</td>\n",
       "      <td>1</td>\n",
       "      <td>1</td>\n",
       "      <td>1</td>\n",
       "      <td>31</td>\n",
       "      <td>2.0</td>\n",
       "      <td>Regular do ensino médio ou do 2º grau</td>\n",
       "      <td>Até 1 ano</td>\n",
       "      <td>NaN</td>\n",
       "      <td>NaN</td>\n",
       "      <td>529479</td>\n",
       "      <td>350.0</td>\n",
       "    </tr>\n",
       "    <tr>\n",
       "      <th>3</th>\n",
       "      <td>4</td>\n",
       "      <td>rondonia</td>\n",
       "      <td>north</td>\n",
       "      <td>1</td>\n",
       "      <td>1</td>\n",
       "      <td>1</td>\n",
       "      <td>9</td>\n",
       "      <td>2.0</td>\n",
       "      <td>NaN</td>\n",
       "      <td>Até 1 ano</td>\n",
       "      <td>NaN</td>\n",
       "      <td>NaN</td>\n",
       "      <td>529479</td>\n",
       "      <td>350.0</td>\n",
       "    </tr>\n",
       "    <tr>\n",
       "      <th>4</th>\n",
       "      <td>5</td>\n",
       "      <td>rondonia</td>\n",
       "      <td>north</td>\n",
       "      <td>1</td>\n",
       "      <td>1</td>\n",
       "      <td>2</td>\n",
       "      <td>6</td>\n",
       "      <td>4.0</td>\n",
       "      <td>NaN</td>\n",
       "      <td>Até 1 ano</td>\n",
       "      <td>NaN</td>\n",
       "      <td>NaN</td>\n",
       "      <td>529479</td>\n",
       "      <td>350.0</td>\n",
       "    </tr>\n",
       "  </tbody>\n",
       "</table>\n",
       "</div>"
      ],
      "text/plain": [
       "   id     state region  house_type  internet  gender  age  race  \\\n",
       "0   1  rondonia  north           1         1       2   55   1.0   \n",
       "1   2  rondonia  north           1         1       1   69   4.0   \n",
       "2   3  rondonia  north           1         1       1   31   2.0   \n",
       "3   4  rondonia  north           1         1       1    9   2.0   \n",
       "4   5  rondonia  north           1         1       2    6   4.0   \n",
       "\n",
       "                       educational_level ultima_consulta_medico  \\\n",
       "0            Antigo primário (elementar)              Até 1 ano   \n",
       "1                                    NaN              Até 1 ano   \n",
       "2  Regular do ensino médio ou do 2º grau              Até 1 ano   \n",
       "3                                    NaN              Até 1 ano   \n",
       "4                                    NaN              Até 1 ano   \n",
       "\n",
       "   dificuldade_atividades_diarias diabetes_restriction  populacao  \\\n",
       "0                             NaN                  NaN     529479   \n",
       "1                             0.0                  NaN     529479   \n",
       "2                             NaN                  NaN     529479   \n",
       "3                             NaN                  NaN     529479   \n",
       "4                             NaN                  NaN     529479   \n",
       "\n",
       "   renda_per_capita  \n",
       "0             350.0  \n",
       "1             350.0  \n",
       "2             350.0  \n",
       "3             350.0  \n",
       "4             350.0  "
      ]
     },
     "execution_count": 1167,
     "metadata": {},
     "output_type": "execute_result"
    }
   ],
   "source": [
    "data.head()"
   ]
  },
  {
   "cell_type": "code",
   "execution_count": 1168,
   "metadata": {},
   "outputs": [
    {
     "name": "stdout",
     "output_type": "stream",
     "text": [
      "<class 'pandas.core.frame.DataFrame'>\n",
      "RangeIndex: 279382 entries, 0 to 279381\n",
      "Data columns (total 14 columns):\n",
      " #   Column                          Non-Null Count   Dtype  \n",
      "---  ------                          --------------   -----  \n",
      " 0   id                              279382 non-null  int64  \n",
      " 1   state                           279382 non-null  object \n",
      " 2   region                          279382 non-null  object \n",
      " 3   house_type                      279382 non-null  int64  \n",
      " 4   internet                        279382 non-null  int64  \n",
      " 5   gender                          279382 non-null  int64  \n",
      " 6   age                             279382 non-null  int64  \n",
      " 7   race                            279358 non-null  float64\n",
      " 8   educational_level               178013 non-null  object \n",
      " 9   ultima_consulta_medico          279382 non-null  object \n",
      " 10  dificuldade_atividades_diarias  9250 non-null    float64\n",
      " 11  diabetes_restriction            7101 non-null    object \n",
      " 12  populacao                       279382 non-null  int64  \n",
      " 13  renda_per_capita                279210 non-null  float64\n",
      "dtypes: float64(3), int64(6), object(5)\n",
      "memory usage: 29.8+ MB\n"
     ]
    }
   ],
   "source": [
    "data.info()"
   ]
  },
  {
   "cell_type": "code",
   "execution_count": 1169,
   "metadata": {},
   "outputs": [
    {
     "data": {
      "text/plain": [
       "id                                   int64\n",
       "state                               object\n",
       "region                              object\n",
       "house_type                        category\n",
       "internet                          category\n",
       "gender                            category\n",
       "age                                  int64\n",
       "race                              category\n",
       "educational_level                   object\n",
       "ultima_consulta_medico              object\n",
       "dificuldade_atividades_diarias     float64\n",
       "diabetes_restriction                object\n",
       "populacao                            int64\n",
       "renda_per_capita                   float64\n",
       "dtype: object"
      ]
     },
     "execution_count": 1169,
     "metadata": {},
     "output_type": "execute_result"
    }
   ],
   "source": [
    "#Changing variables categories\n",
    "\n",
    "data['gender'] = data.gender.astype('category')\n",
    "data['house_type'] = data.house_type.astype('category')\n",
    "data['race'] = data.race.astype('category')\n",
    "data['internet'] = data.internet.astype('category')\n",
    "data.dtypes"
   ]
  },
  {
   "cell_type": "code",
   "execution_count": 1170,
   "metadata": {},
   "outputs": [],
   "source": [
    "#Create income in USD/ anual\n",
    "data['year_income_usd']=data['renda_per_capita']*12*0.184\n",
    "data=data.drop(['id','renda_per_capita','populacao'], axis=1)"
   ]
  },
  {
   "cell_type": "code",
   "execution_count": 1171,
   "metadata": {},
   "outputs": [],
   "source": [
    "#creating age groups\n",
    "def age_groups(x): \n",
    "    if x < 18: return '10to18' \n",
    "    elif x < 40: return '19to40' \n",
    "    elif x < 60: return '40to59' \n",
    "    elif x >=60: return '60+' \n",
    "    else: return 'other'\n",
    "    \n",
    "    \n",
    "data['age_group'] = data.age.apply(age_groups)"
   ]
  },
  {
   "cell_type": "code",
   "execution_count": 1172,
   "metadata": {},
   "outputs": [],
   "source": [
    "def elderly(x): \n",
    "    if x < 60: return 'no_elderly' \n",
    "    elif x >=60: return 'elderly' \n",
    "    else: return 'other'\n",
    "    \n",
    "    \n",
    "data['elderly'] = data.age.apply(elderly)"
   ]
  },
  {
   "cell_type": "code",
   "execution_count": 1173,
   "metadata": {},
   "outputs": [],
   "source": [
    "def income_less_than_minimum(x): \n",
    "    if x < 2203: return 'less_minimum' \n",
    "    else: return 'more_minimum'\n",
    "    \n",
    "    \n",
    "data['income_class'] = data.year_income_usd.apply(income_less_than_minimum)"
   ]
  },
  {
   "cell_type": "code",
   "execution_count": 1174,
   "metadata": {},
   "outputs": [
    {
     "data": {
      "text/html": [
       "<div>\n",
       "<style scoped>\n",
       "    .dataframe tbody tr th:only-of-type {\n",
       "        vertical-align: middle;\n",
       "    }\n",
       "\n",
       "    .dataframe tbody tr th {\n",
       "        vertical-align: top;\n",
       "    }\n",
       "\n",
       "    .dataframe thead th {\n",
       "        text-align: right;\n",
       "    }\n",
       "</style>\n",
       "<table border=\"1\" class=\"dataframe\">\n",
       "  <thead>\n",
       "    <tr style=\"text-align: right;\">\n",
       "      <th></th>\n",
       "      <th>state</th>\n",
       "      <th>region</th>\n",
       "      <th>house_type</th>\n",
       "      <th>internet</th>\n",
       "      <th>gender</th>\n",
       "      <th>age</th>\n",
       "      <th>race</th>\n",
       "      <th>educational_level</th>\n",
       "      <th>ultima_consulta_medico</th>\n",
       "      <th>dificuldade_atividades_diarias</th>\n",
       "      <th>diabetes_restriction</th>\n",
       "      <th>year_income_usd</th>\n",
       "      <th>age_group</th>\n",
       "      <th>elderly</th>\n",
       "      <th>income_class</th>\n",
       "    </tr>\n",
       "  </thead>\n",
       "  <tbody>\n",
       "    <tr>\n",
       "      <th>0</th>\n",
       "      <td>rondonia</td>\n",
       "      <td>north</td>\n",
       "      <td>1</td>\n",
       "      <td>1</td>\n",
       "      <td>2</td>\n",
       "      <td>55</td>\n",
       "      <td>1.0</td>\n",
       "      <td>Antigo primário (elementar)</td>\n",
       "      <td>Até 1 ano</td>\n",
       "      <td>NaN</td>\n",
       "      <td>NaN</td>\n",
       "      <td>772.8</td>\n",
       "      <td>40to59</td>\n",
       "      <td>no_elderly</td>\n",
       "      <td>less_minimum</td>\n",
       "    </tr>\n",
       "    <tr>\n",
       "      <th>1</th>\n",
       "      <td>rondonia</td>\n",
       "      <td>north</td>\n",
       "      <td>1</td>\n",
       "      <td>1</td>\n",
       "      <td>1</td>\n",
       "      <td>69</td>\n",
       "      <td>4.0</td>\n",
       "      <td>NaN</td>\n",
       "      <td>Até 1 ano</td>\n",
       "      <td>0.0</td>\n",
       "      <td>NaN</td>\n",
       "      <td>772.8</td>\n",
       "      <td>60+</td>\n",
       "      <td>elderly</td>\n",
       "      <td>less_minimum</td>\n",
       "    </tr>\n",
       "    <tr>\n",
       "      <th>2</th>\n",
       "      <td>rondonia</td>\n",
       "      <td>north</td>\n",
       "      <td>1</td>\n",
       "      <td>1</td>\n",
       "      <td>1</td>\n",
       "      <td>31</td>\n",
       "      <td>2.0</td>\n",
       "      <td>Regular do ensino médio ou do 2º grau</td>\n",
       "      <td>Até 1 ano</td>\n",
       "      <td>NaN</td>\n",
       "      <td>NaN</td>\n",
       "      <td>772.8</td>\n",
       "      <td>19to40</td>\n",
       "      <td>no_elderly</td>\n",
       "      <td>less_minimum</td>\n",
       "    </tr>\n",
       "    <tr>\n",
       "      <th>3</th>\n",
       "      <td>rondonia</td>\n",
       "      <td>north</td>\n",
       "      <td>1</td>\n",
       "      <td>1</td>\n",
       "      <td>1</td>\n",
       "      <td>9</td>\n",
       "      <td>2.0</td>\n",
       "      <td>NaN</td>\n",
       "      <td>Até 1 ano</td>\n",
       "      <td>NaN</td>\n",
       "      <td>NaN</td>\n",
       "      <td>772.8</td>\n",
       "      <td>10to18</td>\n",
       "      <td>no_elderly</td>\n",
       "      <td>less_minimum</td>\n",
       "    </tr>\n",
       "    <tr>\n",
       "      <th>4</th>\n",
       "      <td>rondonia</td>\n",
       "      <td>north</td>\n",
       "      <td>1</td>\n",
       "      <td>1</td>\n",
       "      <td>2</td>\n",
       "      <td>6</td>\n",
       "      <td>4.0</td>\n",
       "      <td>NaN</td>\n",
       "      <td>Até 1 ano</td>\n",
       "      <td>NaN</td>\n",
       "      <td>NaN</td>\n",
       "      <td>772.8</td>\n",
       "      <td>10to18</td>\n",
       "      <td>no_elderly</td>\n",
       "      <td>less_minimum</td>\n",
       "    </tr>\n",
       "  </tbody>\n",
       "</table>\n",
       "</div>"
      ],
      "text/plain": [
       "      state region house_type internet gender  age race  \\\n",
       "0  rondonia  north          1        1      2   55  1.0   \n",
       "1  rondonia  north          1        1      1   69  4.0   \n",
       "2  rondonia  north          1        1      1   31  2.0   \n",
       "3  rondonia  north          1        1      1    9  2.0   \n",
       "4  rondonia  north          1        1      2    6  4.0   \n",
       "\n",
       "                       educational_level ultima_consulta_medico  \\\n",
       "0            Antigo primário (elementar)              Até 1 ano   \n",
       "1                                    NaN              Até 1 ano   \n",
       "2  Regular do ensino médio ou do 2º grau              Até 1 ano   \n",
       "3                                    NaN              Até 1 ano   \n",
       "4                                    NaN              Até 1 ano   \n",
       "\n",
       "   dificuldade_atividades_diarias diabetes_restriction  year_income_usd  \\\n",
       "0                             NaN                  NaN            772.8   \n",
       "1                             0.0                  NaN            772.8   \n",
       "2                             NaN                  NaN            772.8   \n",
       "3                             NaN                  NaN            772.8   \n",
       "4                             NaN                  NaN            772.8   \n",
       "\n",
       "  age_group     elderly  income_class  \n",
       "0    40to59  no_elderly  less_minimum  \n",
       "1       60+     elderly  less_minimum  \n",
       "2    19to40  no_elderly  less_minimum  \n",
       "3    10to18  no_elderly  less_minimum  \n",
       "4    10to18  no_elderly  less_minimum  "
      ]
     },
     "execution_count": 1174,
     "metadata": {},
     "output_type": "execute_result"
    }
   ],
   "source": [
    "data.head()"
   ]
  },
  {
   "cell_type": "code",
   "execution_count": 1175,
   "metadata": {},
   "outputs": [
    {
     "data": {
      "text/html": [
       "<div>\n",
       "<style scoped>\n",
       "    .dataframe tbody tr th:only-of-type {\n",
       "        vertical-align: middle;\n",
       "    }\n",
       "\n",
       "    .dataframe tbody tr th {\n",
       "        vertical-align: top;\n",
       "    }\n",
       "\n",
       "    .dataframe thead th {\n",
       "        text-align: right;\n",
       "    }\n",
       "</style>\n",
       "<table border=\"1\" class=\"dataframe\">\n",
       "  <thead>\n",
       "    <tr style=\"text-align: right;\">\n",
       "      <th></th>\n",
       "      <th>age</th>\n",
       "      <th>dificuldade_atividades_diarias</th>\n",
       "      <th>year_income_usd</th>\n",
       "    </tr>\n",
       "  </thead>\n",
       "  <tbody>\n",
       "    <tr>\n",
       "      <th>count</th>\n",
       "      <td>279382.000000</td>\n",
       "      <td>9250.000000</td>\n",
       "      <td>279210.000000</td>\n",
       "    </tr>\n",
       "    <tr>\n",
       "      <th>mean</th>\n",
       "      <td>35.267651</td>\n",
       "      <td>0.394054</td>\n",
       "      <td>2901.314309</td>\n",
       "    </tr>\n",
       "    <tr>\n",
       "      <th>std</th>\n",
       "      <td>21.675970</td>\n",
       "      <td>0.488673</td>\n",
       "      <td>5095.361652</td>\n",
       "    </tr>\n",
       "    <tr>\n",
       "      <th>min</th>\n",
       "      <td>0.000000</td>\n",
       "      <td>0.000000</td>\n",
       "      <td>0.000000</td>\n",
       "    </tr>\n",
       "    <tr>\n",
       "      <th>25%</th>\n",
       "      <td>17.000000</td>\n",
       "      <td>0.000000</td>\n",
       "      <td>880.992000</td>\n",
       "    </tr>\n",
       "    <tr>\n",
       "      <th>50%</th>\n",
       "      <td>34.000000</td>\n",
       "      <td>0.000000</td>\n",
       "      <td>1678.080000</td>\n",
       "    </tr>\n",
       "    <tr>\n",
       "      <th>75%</th>\n",
       "      <td>52.000000</td>\n",
       "      <td>1.000000</td>\n",
       "      <td>3084.576000</td>\n",
       "    </tr>\n",
       "    <tr>\n",
       "      <th>max</th>\n",
       "      <td>112.000000</td>\n",
       "      <td>1.000000</td>\n",
       "      <td>448656.768000</td>\n",
       "    </tr>\n",
       "  </tbody>\n",
       "</table>\n",
       "</div>"
      ],
      "text/plain": [
       "                 age  dificuldade_atividades_diarias  year_income_usd\n",
       "count  279382.000000                     9250.000000    279210.000000\n",
       "mean       35.267651                        0.394054      2901.314309\n",
       "std        21.675970                        0.488673      5095.361652\n",
       "min         0.000000                        0.000000         0.000000\n",
       "25%        17.000000                        0.000000       880.992000\n",
       "50%        34.000000                        0.000000      1678.080000\n",
       "75%        52.000000                        1.000000      3084.576000\n",
       "max       112.000000                        1.000000    448656.768000"
      ]
     },
     "execution_count": 1175,
     "metadata": {},
     "output_type": "execute_result"
    }
   ],
   "source": [
    "data.describe()"
   ]
  },
  {
   "cell_type": "code",
   "execution_count": 1176,
   "metadata": {},
   "outputs": [
    {
     "name": "stdout",
     "output_type": "stream",
     "text": [
      "Number of numerical features 7\n",
      "discrete features 5\n",
      "['house_type', 'internet', 'gender', 'race', 'dificuldade_atividades_diarias']\n"
     ]
    }
   ],
   "source": [
    "numerical_features=[features for features in data.columns if data[features].dtype!='O']\n",
    "\n",
    "print('Number of numerical features' , len(numerical_features))\n",
    "\n",
    "# discrete features\n",
    "\n",
    "discrete_features = [features for features in numerical_features if len(data[features].unique())<=10]\n",
    "\n",
    "print('discrete features', len(discrete_features))\n",
    "print(discrete_features)"
   ]
  },
  {
   "cell_type": "code",
   "execution_count": 1177,
   "metadata": {},
   "outputs": [
    {
     "name": "stdout",
     "output_type": "stream",
     "text": [
      "continous features 2\n"
     ]
    },
    {
     "data": {
      "image/png": "[encoded data removed]",
      "text/plain": [
       "<Figure size 432x288 with 1 Axes>"
      ]
     },
     "metadata": {
      "needs_background": "light"
     },
     "output_type": "display_data"
    },
    {
     "data": {
      "image/png": "[encoded data removed]",
      "text/plain": [
       "<Figure size 432x288 with 1 Axes>"
      ]
     },
     "metadata": {
      "needs_background": "light"
     },
     "output_type": "display_data"
    }
   ],
   "source": [
    "# continous features\n",
    "\n",
    "continous_features = [features for features in numerical_features if features not in discrete_features] \n",
    "\n",
    "print(\"continous features\" , len(continous_features))\n",
    "\n",
    "for features in continous_features:\n",
    "    data = data.copy()\n",
    "    data[features].hist(bins=25)\n",
    "    plt.xlabel(features)\n",
    "    plt.ylabel(\"count\")\n",
    "    plt.title(features)\n",
    "    plt.show()"
   ]
  },
  {
   "cell_type": "code",
   "execution_count": 1178,
   "metadata": {},
   "outputs": [
    {
     "name": "stdout",
     "output_type": "stream",
     "text": [
      "8\n",
      "The feature is state and number of categories are 27\n",
      "The feature is region and number of categories are 5\n",
      "The feature is educational_level and number of categories are 16\n",
      "The feature is ultima_consulta_medico and number of categories are 5\n",
      "The feature is diabetes_restriction and number of categories are 6\n",
      "The feature is age_group and number of categories are 4\n",
      "The feature is elderly and number of categories are 2\n",
      "The feature is income_class and number of categories are 2\n"
     ]
    }
   ],
   "source": [
    "categorical_features = [features for features in data.columns if data[features].dtype=='O']\n",
    "print(len(categorical_features))\n",
    "\n",
    "for features in categorical_features:\n",
    "    print(f\"The feature is {features} and number of categories are {len(data[features].unique())}\")"
   ]
  },
  {
   "cell_type": "code",
   "execution_count": 1179,
   "metadata": {},
   "outputs": [
    {
     "data": {
      "text/plain": [
       "state                                  0\n",
       "region                                 0\n",
       "house_type                             0\n",
       "internet                               0\n",
       "gender                                 0\n",
       "age                                    0\n",
       "ultima_consulta_medico                 0\n",
       "age_group                              0\n",
       "elderly                                0\n",
       "income_class                           0\n",
       "race                                  24\n",
       "year_income_usd                      172\n",
       "educational_level                 101369\n",
       "dificuldade_atividades_diarias    270132\n",
       "diabetes_restriction              272281\n",
       "dtype: int64"
      ]
     },
     "execution_count": 1179,
     "metadata": {},
     "output_type": "execute_result"
    }
   ],
   "source": [
    "#show missing values\n",
    "data.isna().sum().sort_values()"
   ]
  },
  {
   "cell_type": "code",
   "execution_count": 1180,
   "metadata": {},
   "outputs": [
    {
     "data": {
      "text/plain": [
       "0.00859038878667917"
      ]
     },
     "execution_count": 1180,
     "metadata": {},
     "output_type": "execute_result"
    }
   ],
   "source": [
    "#proportion of race NA\n",
    "(data['race'].isna().sum()/len(data['race']))*100"
   ]
  },
  {
   "cell_type": "code",
   "execution_count": 1181,
   "metadata": {},
   "outputs": [
    {
     "data": {
      "text/plain": [
       "0.06156445297120073"
      ]
     },
     "execution_count": 1181,
     "metadata": {},
     "output_type": "execute_result"
    }
   ],
   "source": [
    "#proportion of renda NA\n",
    "(data['year_income_usd'].isna().sum()/len(data['year_income_usd']))*100"
   ]
  },
  {
   "cell_type": "code",
   "execution_count": 1182,
   "metadata": {},
   "outputs": [
    {
     "data": {
      "text/plain": [
       "36.28329670487003"
      ]
     },
     "execution_count": 1182,
     "metadata": {},
     "output_type": "execute_result"
    }
   ],
   "source": [
    "#proportion of educational_level NA\n",
    "(data['educational_level'].isna().sum()/len(data['educational_level']))*100"
   ]
  },
  {
   "cell_type": "code",
   "execution_count": 1183,
   "metadata": {},
   "outputs": [
    {
     "data": {
      "text/plain": [
       "96.68912098846741"
      ]
     },
     "execution_count": 1183,
     "metadata": {},
     "output_type": "execute_result"
    }
   ],
   "source": [
    "#proportion of dificuldade_atividades_diarias NA\n",
    "(data['dificuldade_atividades_diarias'].isna().sum()/len(data['dificuldade_atividades_diarias']))*100"
   ]
  },
  {
   "cell_type": "code",
   "execution_count": 1184,
   "metadata": {},
   "outputs": [
    {
     "data": {
      "text/plain": [
       "97.45831871774129"
      ]
     },
     "execution_count": 1184,
     "metadata": {},
     "output_type": "execute_result"
    }
   ],
   "source": [
    "#proportion of diabetes_restriction NA\n",
    "(data['diabetes_restriction'].isna().sum()/len(data['diabetes_restriction']))*100"
   ]
  },
  {
   "cell_type": "code",
   "execution_count": 1185,
   "metadata": {},
   "outputs": [
    {
     "data": {
      "text/plain": [
       "northeast      99553\n",
       "north          61447\n",
       "southeast      56340\n",
       "south          31238\n",
       "center_west    30804\n",
       "Name: region, dtype: int64"
      ]
     },
     "execution_count": 1185,
     "metadata": {},
     "output_type": "execute_result"
    }
   ],
   "source": [
    "data.region.value_counts()"
   ]
  },
  {
   "cell_type": "code",
   "execution_count": 1186,
   "metadata": {},
   "outputs": [
    {
     "data": {
      "text/plain": [
       "northeast      0.356333\n",
       "north          0.219939\n",
       "southeast      0.201659\n",
       "south          0.111811\n",
       "center_west    0.110258\n",
       "Name: region, dtype: float64"
      ]
     },
     "execution_count": 1186,
     "metadata": {},
     "output_type": "execute_result"
    }
   ],
   "source": [
    "data.region.value_counts(normalize=True)"
   ]
  },
  {
   "cell_type": "code",
   "execution_count": 1187,
   "metadata": {},
   "outputs": [
    {
     "name": "stdout",
     "output_type": "stream",
     "text": [
      "internet  region     \n",
      "0         northeast      25166\n",
      "          north          16371\n",
      "          southeast       6511\n",
      "          south           4192\n",
      "          center_west     3575\n",
      "1         northeast      74387\n",
      "          southeast      49829\n",
      "          north          45076\n",
      "          center_west    27229\n",
      "          south          27046\n",
      "Name: region, dtype: int64\n",
      "internet  region     \n",
      "0         northeast      0.450882\n",
      "          north          0.293308\n",
      "          southeast      0.116653\n",
      "          south          0.075105\n",
      "          center_west    0.064051\n",
      "1         northeast      0.332728\n",
      "          southeast      0.222882\n",
      "          north          0.201622\n",
      "          center_west    0.121793\n",
      "          south          0.120975\n",
      "Name: region, dtype: float64\n"
     ]
    }
   ],
   "source": [
    "regions=data.groupby('internet')['region'].value_counts()\n",
    "regions_norm=data.groupby('internet')['region'].value_counts(normalize=True)\n",
    "print(regions)\n",
    "print(regions_norm)"
   ]
  },
  {
   "cell_type": "code",
   "execution_count": 1188,
   "metadata": {},
   "outputs": [
    {
     "data": {
      "text/plain": [
       "count    279210.000000\n",
       "mean       2901.314309\n",
       "std        5095.361652\n",
       "min           0.000000\n",
       "25%         880.992000\n",
       "50%        1678.080000\n",
       "75%        3084.576000\n",
       "max      448656.768000\n",
       "Name: year_income_usd, dtype: float64"
      ]
     },
     "execution_count": 1188,
     "metadata": {},
     "output_type": "execute_result"
    }
   ],
   "source": [
    "data.year_income_usd.describe()"
   ]
  },
  {
   "cell_type": "code",
   "execution_count": 1189,
   "metadata": {},
   "outputs": [
    {
     "data": {
      "text/html": [
       "<div>\n",
       "<style scoped>\n",
       "    .dataframe tbody tr th:only-of-type {\n",
       "        vertical-align: middle;\n",
       "    }\n",
       "\n",
       "    .dataframe tbody tr th {\n",
       "        vertical-align: top;\n",
       "    }\n",
       "\n",
       "    .dataframe thead th {\n",
       "        text-align: right;\n",
       "    }\n",
       "</style>\n",
       "<table border=\"1\" class=\"dataframe\">\n",
       "  <thead>\n",
       "    <tr style=\"text-align: right;\">\n",
       "      <th></th>\n",
       "      <th>count</th>\n",
       "      <th>mean</th>\n",
       "      <th>std</th>\n",
       "      <th>min</th>\n",
       "      <th>25%</th>\n",
       "      <th>50%</th>\n",
       "      <th>75%</th>\n",
       "      <th>max</th>\n",
       "    </tr>\n",
       "    <tr>\n",
       "      <th>internet</th>\n",
       "      <th></th>\n",
       "      <th></th>\n",
       "      <th></th>\n",
       "      <th></th>\n",
       "      <th></th>\n",
       "      <th></th>\n",
       "      <th></th>\n",
       "      <th></th>\n",
       "    </tr>\n",
       "  </thead>\n",
       "  <tbody>\n",
       "    <tr>\n",
       "      <th>0</th>\n",
       "      <td>55802.0</td>\n",
       "      <td>1510.907945</td>\n",
       "      <td>1964.243054</td>\n",
       "      <td>0.0</td>\n",
       "      <td>470.304</td>\n",
       "      <td>1101.792</td>\n",
       "      <td>2203.584</td>\n",
       "      <td>110400.000</td>\n",
       "    </tr>\n",
       "    <tr>\n",
       "      <th>1</th>\n",
       "      <td>223408.0</td>\n",
       "      <td>3248.604719</td>\n",
       "      <td>5557.016467</td>\n",
       "      <td>0.0</td>\n",
       "      <td>1028.928</td>\n",
       "      <td>1854.720</td>\n",
       "      <td>3422.400</td>\n",
       "      <td>448656.768</td>\n",
       "    </tr>\n",
       "  </tbody>\n",
       "</table>\n",
       "</div>"
      ],
      "text/plain": [
       "             count         mean          std  min       25%       50%  \\\n",
       "internet                                                                \n",
       "0          55802.0  1510.907945  1964.243054  0.0   470.304  1101.792   \n",
       "1         223408.0  3248.604719  5557.016467  0.0  1028.928  1854.720   \n",
       "\n",
       "               75%         max  \n",
       "internet                        \n",
       "0         2203.584  110400.000  \n",
       "1         3422.400  448656.768  "
      ]
     },
     "execution_count": 1189,
     "metadata": {},
     "output_type": "execute_result"
    }
   ],
   "source": [
    "data.groupby('internet')['year_income_usd'].describe()"
   ]
  },
  {
   "cell_type": "code",
   "execution_count": 1190,
   "metadata": {},
   "outputs": [
    {
     "data": {
      "text/plain": [
       "2    0.518788\n",
       "1    0.481212\n",
       "Name: gender, dtype: float64"
      ]
     },
     "execution_count": 1190,
     "metadata": {},
     "output_type": "execute_result"
    }
   ],
   "source": [
    "data.gender.value_counts(normalize=True)"
   ]
  },
  {
   "cell_type": "code",
   "execution_count": 1191,
   "metadata": {},
   "outputs": [
    {
     "name": "stdout",
     "output_type": "stream",
     "text": [
      "internet   \n",
      "0         1     28394\n",
      "          2     27421\n",
      "1         2    117519\n",
      "          1    106048\n",
      "Name: gender, dtype: int64\n",
      "internet   \n",
      "0         1    0.508716\n",
      "          2    0.491284\n",
      "1         2    0.525655\n",
      "          1    0.474345\n",
      "Name: gender, dtype: float64\n"
     ]
    }
   ],
   "source": [
    "gender=data.groupby('internet')['gender'].value_counts()\n",
    "gender_norm=data.groupby('internet')['gender'].value_counts(normalize=True)\n",
    "print(gender)\n",
    "print(gender_norm)"
   ]
  },
  {
   "cell_type": "code",
   "execution_count": 1192,
   "metadata": {},
   "outputs": [
    {
     "data": {
      "text/plain": [
       "1    0.759841\n",
       "2    0.240159\n",
       "Name: house_type, dtype: float64"
      ]
     },
     "execution_count": 1192,
     "metadata": {},
     "output_type": "execute_result"
    }
   ],
   "source": [
    "data.house_type.value_counts(normalize=True)"
   ]
  },
  {
   "cell_type": "code",
   "execution_count": 1193,
   "metadata": {},
   "outputs": [
    {
     "name": "stdout",
     "output_type": "stream",
     "text": [
      "internet   \n",
      "0         2     31367\n",
      "          1     24448\n",
      "1         1    187838\n",
      "          2     35729\n",
      "Name: house_type, dtype: int64\n",
      "internet   \n",
      "0         2    0.561982\n",
      "          1    0.438018\n",
      "1         1    0.840187\n",
      "          2    0.159813\n",
      "Name: house_type, dtype: float64\n"
     ]
    }
   ],
   "source": [
    "house_type=data.groupby('internet')['house_type'].value_counts()\n",
    "house_norm=data.groupby('internet')['house_type'].value_counts(normalize=True)\n",
    "print(house_type)\n",
    "print(house_norm)"
   ]
  },
  {
   "cell_type": "code",
   "execution_count": 1194,
   "metadata": {},
   "outputs": [
    {
     "data": {
      "text/plain": [
       "4.0    0.530763\n",
       "1.0    0.354452\n",
       "2.0    0.101318\n",
       "5.0    0.007388\n",
       "3.0    0.006078\n",
       "Name: race, dtype: float64"
      ]
     },
     "execution_count": 1194,
     "metadata": {},
     "output_type": "execute_result"
    }
   ],
   "source": [
    "data.race.value_counts(normalize=True)"
   ]
  },
  {
   "cell_type": "code",
   "execution_count": 1195,
   "metadata": {},
   "outputs": [
    {
     "name": "stdout",
     "output_type": "stream",
     "text": [
      "internet     \n",
      "0         4.0     34678\n",
      "          1.0     14225\n",
      "          2.0      6042\n",
      "          5.0       657\n",
      "          3.0       211\n",
      "1         4.0    113595\n",
      "          1.0     84794\n",
      "          2.0     22262\n",
      "          3.0      1487\n",
      "          5.0      1407\n",
      "Name: race, dtype: int64\n",
      "internet     \n",
      "0         4.0    0.621325\n",
      "          1.0    0.254869\n",
      "          2.0    0.108254\n",
      "          5.0    0.011771\n",
      "          3.0    0.003780\n",
      "1         4.0    0.508153\n",
      "          1.0    0.379315\n",
      "          2.0    0.099586\n",
      "          3.0    0.006652\n",
      "          5.0    0.006294\n",
      "Name: race, dtype: float64\n"
     ]
    }
   ],
   "source": [
    "race=data.groupby('internet')['race'].value_counts()\n",
    "race_norm=data.groupby('internet')['race'].value_counts(normalize=True)\n",
    "print(race)\n",
    "print(race_norm)"
   ]
  },
  {
   "cell_type": "code",
   "execution_count": 1196,
   "metadata": {},
   "outputs": [
    {
     "data": {
      "text/plain": [
       "Regular do ensino médio ou do 2º grau                                    63175\n",
       "Regular do ensino fundamental ou do 1º grau                              46411\n",
       "Superior – graduação                                                     24223\n",
       "Antigo primário (elementar)                                              19241\n",
       "Especialização de nível superior (duração mínima de 360 horas)            6345\n",
       "Antigo ginasial (médio 1º ciclo)                                          3677\n",
       "Classe de alfabetização – CA                                              3552\n",
       "Educação de jovens e adultos (EJA) ou supletivo do ensino médio           3025\n",
       "Antigo científico, clássico etc. (médio 2º ciclo)                         2442\n",
       "Educação de jovens e adultos (EJA) ou supletivo do ensino fundamental     2415\n",
       "Mestrado                                                                  1059\n",
       "Alfabetização de jovens e adultos                                         1022\n",
       "Pré-escola                                                                 627\n",
       "Doutorado                                                                  444\n",
       "Creche                                                                     355\n",
       "Name: educational_level, dtype: int64"
      ]
     },
     "execution_count": 1196,
     "metadata": {},
     "output_type": "execute_result"
    }
   ],
   "source": [
    "data.educational_level.value_counts()"
   ]
  },
  {
   "cell_type": "code",
   "execution_count": 1197,
   "metadata": {},
   "outputs": [
    {
     "name": "stdout",
     "output_type": "stream",
     "text": [
      "internet  educational_level                                                    \n",
      "0         Regular do ensino fundamental ou do 1º grau                              13283\n",
      "          Antigo primário (elementar)                                               7916\n",
      "          Regular do ensino médio ou do 2º grau                                     6976\n",
      "          Classe de alfabetização – CA                                              2029\n",
      "          Superior – graduação                                                       895\n",
      "          Antigo ginasial (médio 1º ciclo)                                           872\n",
      "          Educação de jovens e adultos (EJA) ou supletivo do ensino fundamental      741\n",
      "          Alfabetização de jovens e adultos                                          494\n",
      "          Educação de jovens e adultos (EJA) ou supletivo do ensino médio            354\n",
      "          Antigo científico, clássico etc. (médio 2º ciclo)                          353\n",
      "          Pré-escola                                                                 280\n",
      "          Especialização de nível superior (duração mínima de 360 horas)             125\n",
      "          Creche                                                                      47\n",
      "          Mestrado                                                                     6\n",
      "          Doutorado                                                                    4\n",
      "1         Regular do ensino médio ou do 2º grau                                    56199\n",
      "          Regular do ensino fundamental ou do 1º grau                              33128\n",
      "          Superior – graduação                                                     23328\n",
      "          Antigo primário (elementar)                                              11325\n",
      "          Especialização de nível superior (duração mínima de 360 horas)            6220\n",
      "          Antigo ginasial (médio 1º ciclo)                                          2805\n",
      "          Educação de jovens e adultos (EJA) ou supletivo do ensino médio           2671\n",
      "          Antigo científico, clássico etc. (médio 2º ciclo)                         2089\n",
      "          Educação de jovens e adultos (EJA) ou supletivo do ensino fundamental     1674\n",
      "          Classe de alfabetização – CA                                              1523\n",
      "          Mestrado                                                                  1053\n",
      "          Alfabetização de jovens e adultos                                          528\n",
      "          Doutorado                                                                  440\n",
      "          Pré-escola                                                                 347\n",
      "          Creche                                                                     308\n",
      "Name: educational_level, dtype: int64\n",
      "internet  educational_level                                                    \n",
      "0         Regular do ensino fundamental ou do 1º grau                              0.386415\n",
      "          Antigo primário (elementar)                                              0.230284\n",
      "          Regular do ensino médio ou do 2º grau                                    0.202938\n",
      "          Classe de alfabetização – CA                                             0.059025\n",
      "          Superior – graduação                                                     0.026036\n",
      "          Antigo ginasial (médio 1º ciclo)                                         0.025367\n",
      "          Educação de jovens e adultos (EJA) ou supletivo do ensino fundamental    0.021556\n",
      "          Alfabetização de jovens e adultos                                        0.014371\n",
      "          Educação de jovens e adultos (EJA) ou supletivo do ensino médio          0.010298\n",
      "          Antigo científico, clássico etc. (médio 2º ciclo)                        0.010269\n",
      "          Pré-escola                                                               0.008145\n",
      "          Especialização de nível superior (duração mínima de 360 horas)           0.003636\n",
      "          Creche                                                                   0.001367\n",
      "          Mestrado                                                                 0.000175\n",
      "          Doutorado                                                                0.000116\n",
      "1         Regular do ensino médio ou do 2º grau                                    0.391254\n",
      "          Regular do ensino fundamental ou do 1º grau                              0.230635\n",
      "          Superior – graduação                                                     0.162408\n",
      "          Antigo primário (elementar)                                              0.078844\n",
      "          Especialização de nível superior (duração mínima de 360 horas)           0.043303\n",
      "          Antigo ginasial (médio 1º ciclo)                                         0.019528\n",
      "          Educação de jovens e adultos (EJA) ou supletivo do ensino médio          0.018595\n",
      "          Antigo científico, clássico etc. (médio 2º ciclo)                        0.014544\n",
      "          Educação de jovens e adultos (EJA) ou supletivo do ensino fundamental    0.011654\n",
      "          Classe de alfabetização – CA                                             0.010603\n",
      "          Mestrado                                                                 0.007331\n",
      "          Alfabetização de jovens e adultos                                        0.003676\n",
      "          Doutorado                                                                0.003063\n",
      "          Pré-escola                                                               0.002416\n",
      "          Creche                                                                   0.002144\n",
      "Name: educational_level, dtype: float64\n"
     ]
    }
   ],
   "source": [
    "education=data.groupby('internet')['educational_level'].value_counts()\n",
    "education_norm=data.groupby('internet')['educational_level'].value_counts(normalize=True)\n",
    "print(education)\n",
    "print(education_norm)"
   ]
  },
  {
   "cell_type": "code",
   "execution_count": 1198,
   "metadata": {},
   "outputs": [
    {
     "data": {
      "text/html": [
       "<div>\n",
       "<style scoped>\n",
       "    .dataframe tbody tr th:only-of-type {\n",
       "        vertical-align: middle;\n",
       "    }\n",
       "\n",
       "    .dataframe tbody tr th {\n",
       "        vertical-align: top;\n",
       "    }\n",
       "\n",
       "    .dataframe thead tr th {\n",
       "        text-align: left;\n",
       "    }\n",
       "\n",
       "    .dataframe thead tr:last-of-type th {\n",
       "        text-align: right;\n",
       "    }\n",
       "</style>\n",
       "<table border=\"1\" class=\"dataframe\">\n",
       "  <thead>\n",
       "    <tr>\n",
       "      <th></th>\n",
       "      <th colspan=\"2\" halign=\"left\">age</th>\n",
       "      <th colspan=\"2\" halign=\"left\">dificuldade_atividades_diarias</th>\n",
       "      <th colspan=\"2\" halign=\"left\">year_income_usd</th>\n",
       "    </tr>\n",
       "    <tr>\n",
       "      <th></th>\n",
       "      <th>mean</th>\n",
       "      <th>std</th>\n",
       "      <th>mean</th>\n",
       "      <th>std</th>\n",
       "      <th>mean</th>\n",
       "      <th>std</th>\n",
       "    </tr>\n",
       "    <tr>\n",
       "      <th>internet</th>\n",
       "      <th></th>\n",
       "      <th></th>\n",
       "      <th></th>\n",
       "      <th></th>\n",
       "      <th></th>\n",
       "      <th></th>\n",
       "    </tr>\n",
       "  </thead>\n",
       "  <tbody>\n",
       "    <tr>\n",
       "      <th>0</th>\n",
       "      <td>40.670196</td>\n",
       "      <td>24.835676</td>\n",
       "      <td>0.363039</td>\n",
       "      <td>0.480939</td>\n",
       "      <td>1510.907945</td>\n",
       "      <td>1964.243054</td>\n",
       "    </tr>\n",
       "    <tr>\n",
       "      <th>1</th>\n",
       "      <td>33.918870</td>\n",
       "      <td>20.592567</td>\n",
       "      <td>0.415718</td>\n",
       "      <td>0.492891</td>\n",
       "      <td>3248.604719</td>\n",
       "      <td>5557.016467</td>\n",
       "    </tr>\n",
       "  </tbody>\n",
       "</table>\n",
       "</div>"
      ],
      "text/plain": [
       "                age            dificuldade_atividades_diarias            \\\n",
       "               mean        std                           mean       std   \n",
       "internet                                                                  \n",
       "0         40.670196  24.835676                       0.363039  0.480939   \n",
       "1         33.918870  20.592567                       0.415718  0.492891   \n",
       "\n",
       "         year_income_usd               \n",
       "                    mean          std  \n",
       "internet                               \n",
       "0            1510.907945  1964.243054  \n",
       "1            3248.604719  5557.016467  "
      ]
     },
     "execution_count": 1198,
     "metadata": {},
     "output_type": "execute_result"
    }
   ],
   "source": [
    "comparacao= data.sort_values('year_income_usd').groupby('internet').agg(['mean','std'])\n",
    "comparacao"
   ]
  },
  {
   "cell_type": "code",
   "execution_count": 1199,
   "metadata": {},
   "outputs": [
    {
     "data": {
      "text/plain": [
       "count    279382.000000\n",
       "mean         35.267651\n",
       "std          21.675970\n",
       "min           0.000000\n",
       "25%          17.000000\n",
       "50%          34.000000\n",
       "75%          52.000000\n",
       "max         112.000000\n",
       "Name: age, dtype: float64"
      ]
     },
     "execution_count": 1199,
     "metadata": {},
     "output_type": "execute_result"
    }
   ],
   "source": [
    "data.age.describe()"
   ]
  },
  {
   "cell_type": "code",
   "execution_count": 1200,
   "metadata": {},
   "outputs": [
    {
     "name": "stdout",
     "output_type": "stream",
     "text": [
      "             count       mean        std  min   25%   50%   75%    max\n",
      "internet                                                              \n",
      "0          55815.0  40.670196  24.835676  0.0  18.0  41.0  62.0  107.0\n",
      "1         223567.0  33.918870  20.592567  0.0  17.0  33.0  49.0  112.0\n"
     ]
    }
   ],
   "source": [
    "age=data.groupby('internet')['age'].describe()\n",
    "print(age)"
   ]
  },
  {
   "cell_type": "code",
   "execution_count": 1201,
   "metadata": {},
   "outputs": [
    {
     "data": {
      "text/plain": [
       "no_elderly    235828\n",
       "elderly        43554\n",
       "Name: elderly, dtype: int64"
      ]
     },
     "execution_count": 1201,
     "metadata": {},
     "output_type": "execute_result"
    }
   ],
   "source": [
    "data.elderly.value_counts()"
   ]
  },
  {
   "cell_type": "code",
   "execution_count": 1202,
   "metadata": {},
   "outputs": [
    {
     "data": {
      "text/plain": [
       "no_elderly    0.844106\n",
       "elderly       0.155894\n",
       "Name: elderly, dtype: float64"
      ]
     },
     "execution_count": 1202,
     "metadata": {},
     "output_type": "execute_result"
    }
   ],
   "source": [
    "data.elderly.value_counts(normalize=True)"
   ]
  },
  {
   "cell_type": "code",
   "execution_count": 1203,
   "metadata": {},
   "outputs": [
    {
     "data": {
      "text/plain": [
       "internet  elderly   \n",
       "0         no_elderly     40287\n",
       "          elderly        15528\n",
       "1         no_elderly    195541\n",
       "          elderly        28026\n",
       "Name: elderly, dtype: int64"
      ]
     },
     "execution_count": 1203,
     "metadata": {},
     "output_type": "execute_result"
    }
   ],
   "source": [
    "data.groupby('internet')['elderly'].value_counts()\n"
   ]
  },
  {
   "cell_type": "code",
   "execution_count": 1204,
   "metadata": {},
   "outputs": [
    {
     "data": {
      "text/plain": [
       "internet  elderly   \n",
       "0         no_elderly    0.721795\n",
       "          elderly       0.278205\n",
       "1         no_elderly    0.874642\n",
       "          elderly       0.125358\n",
       "Name: elderly, dtype: float64"
      ]
     },
     "execution_count": 1204,
     "metadata": {},
     "output_type": "execute_result"
    }
   ],
   "source": [
    "data.groupby('internet')['elderly'].value_counts(normalize=True)"
   ]
  },
  {
   "cell_type": "code",
   "execution_count": 1205,
   "metadata": {},
   "outputs": [],
   "source": [
    "#chi square of independence\n",
    "alpha = 0.05\n"
   ]
  },
  {
   "cell_type": "code",
   "execution_count": 1206,
   "metadata": {},
   "outputs": [
    {
     "data": {
      "text/plain": [
       "<AxesSubplot:xlabel='elderly'>"
      ]
     },
     "execution_count": 1206,
     "metadata": {},
     "output_type": "execute_result"
    },
    {
     "data": {
      "image/png": "[encoded data removed]",
      "text/plain": [
       "<Figure size 432x288 with 1 Axes>"
      ]
     },
     "metadata": {
      "needs_background": "light"
     },
     "output_type": "display_data"
    }
   ],
   "source": [
    "proportions=data.groupby('elderly')['internet'].value_counts(normalize=True)\n",
    "wide_proportions = proportions.unstack()\n",
    "\n",
    "wide_proportions.plot(kind='bar', stacked=True)"
   ]
  },
  {
   "cell_type": "code",
   "execution_count": 1207,
   "metadata": {},
   "outputs": [
    {
     "data": {
      "text/plain": [
       "<AxesSubplot:xlabel='educational_level'>"
      ]
     },
     "execution_count": 1207,
     "metadata": {},
     "output_type": "execute_result"
    },
    {
     "data": {
      "image/png": "[encoded data removed]",
      "text/plain": [
       "<Figure size 432x288 with 1 Axes>"
      ]
     },
     "metadata": {
      "needs_background": "light"
     },
     "output_type": "display_data"
    }
   ],
   "source": [
    "proportions=data.groupby('educational_level')['internet'].value_counts(normalize=True)\n",
    "wide_proportions = proportions.unstack()\n",
    "\n",
    "wide_proportions.plot(kind='bar', stacked=True)"
   ]
  },
  {
   "cell_type": "code",
   "execution_count": 1208,
   "metadata": {},
   "outputs": [
    {
     "name": "stdout",
     "output_type": "stream",
     "text": [
      "      test  lambda          chi2   dof  pval   cramer  power\n",
      "0  pearson     1.0  21063.709214  14.0   0.0  0.27458    1.0\n"
     ]
    },
    {
     "name": "stderr",
     "output_type": "stream",
     "text": [
      "/Users/luisnakayama/miniforge3/lib/python3.9/site-packages/pingouin/contingency.py:150: UserWarning: Low count on observed frequencies.\n",
      "  warnings.warn(\"Low count on {} frequencies.\".format(name))\n"
     ]
    }
   ],
   "source": [
    "expected, observed, stats = pingouin.chi2_independence(data=data, x=\"internet\", y='educational_level')\n",
    "print(stats[stats['test'] == 'pearson'])"
   ]
  },
  {
   "cell_type": "code",
   "execution_count": 1209,
   "metadata": {},
   "outputs": [
    {
     "data": {
      "text/plain": [
       "<AxesSubplot:xlabel='house_type'>"
      ]
     },
     "execution_count": 1209,
     "metadata": {},
     "output_type": "execute_result"
    },
    {
     "data": {
      "image/png": "[encoded data removed]",
      "text/plain": [
       "<Figure size 432x288 with 1 Axes>"
      ]
     },
     "metadata": {
      "needs_background": "light"
     },
     "output_type": "display_data"
    }
   ],
   "source": [
    "proportions=data.groupby('house_type')['internet'].value_counts(normalize=True)\n",
    "wide_proportions = proportions.unstack()\n",
    "\n",
    "wide_proportions.plot(kind='bar', stacked=True)"
   ]
  },
  {
   "cell_type": "code",
   "execution_count": 1210,
   "metadata": {},
   "outputs": [
    {
     "name": "stdout",
     "output_type": "stream",
     "text": [
      "      test  lambda          chi2  dof  pval    cramer  power\n",
      "0  pearson     1.0  39584.963587  1.0   0.0  0.376414    1.0\n"
     ]
    }
   ],
   "source": [
    "expected, observed, stats = pingouin.chi2_independence(data=data, x=\"internet\", y='house_type')\n",
    "print(stats[stats['test'] == 'pearson'])"
   ]
  },
  {
   "cell_type": "code",
   "execution_count": 1211,
   "metadata": {},
   "outputs": [
    {
     "data": {
      "text/plain": [
       "<AxesSubplot:xlabel='gender'>"
      ]
     },
     "execution_count": 1211,
     "metadata": {},
     "output_type": "execute_result"
    },
    {
     "data": {
      "image/png": "[encoded data removed]",
      "text/plain": [
       "<Figure size 432x288 with 1 Axes>"
      ]
     },
     "metadata": {
      "needs_background": "light"
     },
     "output_type": "display_data"
    }
   ],
   "source": [
    "proportions=data.groupby('gender')['internet'].value_counts(normalize=True)\n",
    "wide_proportions = proportions.unstack()\n",
    "\n",
    "wide_proportions.plot(kind='bar', stacked=True)"
   ]
  },
  {
   "cell_type": "code",
   "execution_count": 1212,
   "metadata": {},
   "outputs": [
    {
     "name": "stdout",
     "output_type": "stream",
     "text": [
      "      test  lambda        chi2  dof          pval    cramer  power\n",
      "0  pearson     1.0  211.217588  1.0  7.451199e-48  0.027496    1.0\n"
     ]
    }
   ],
   "source": [
    "expected, observed, stats = pingouin.chi2_independence(data=data, x=\"internet\", y='gender')\n",
    "print(stats[stats['test'] == 'pearson'])"
   ]
  },
  {
   "cell_type": "code",
   "execution_count": 1213,
   "metadata": {},
   "outputs": [
    {
     "data": {
      "text/plain": [
       "<AxesSubplot:xlabel='race'>"
      ]
     },
     "execution_count": 1213,
     "metadata": {},
     "output_type": "execute_result"
    },
    {
     "data": {
      "image/png": "[encoded data removed]",
      "text/plain": [
       "<Figure size 432x288 with 1 Axes>"
      ]
     },
     "metadata": {
      "needs_background": "light"
     },
     "output_type": "display_data"
    }
   ],
   "source": [
    "proportions=data.groupby('race')['internet'].value_counts(normalize=True)\n",
    "wide_proportions = proportions.unstack()\n",
    "\n",
    "wide_proportions.plot(kind='bar', stacked=True)"
   ]
  },
  {
   "cell_type": "code",
   "execution_count": 1214,
   "metadata": {},
   "outputs": [
    {
     "name": "stdout",
     "output_type": "stream",
     "text": [
      "      test  lambda         chi2  dof  pval    cramer  power\n",
      "0  pearson     1.0  3304.206009  4.0   0.0  0.108751    1.0\n"
     ]
    }
   ],
   "source": [
    "expected, observed, stats = pingouin.chi2_independence(data=data, x=\"internet\", y='race')\n",
    "print(stats[stats['test'] == 'pearson'])"
   ]
  },
  {
   "cell_type": "code",
   "execution_count": 1215,
   "metadata": {},
   "outputs": [
    {
     "data": {
      "text/plain": [
       "<AxesSubplot:xlabel='region'>"
      ]
     },
     "execution_count": 1215,
     "metadata": {},
     "output_type": "execute_result"
    },
    {
     "data": {
      "image/png": "[encoded data removed]",
      "text/plain": [
       "<Figure size 432x288 with 1 Axes>"
      ]
     },
     "metadata": {
      "needs_background": "light"
     },
     "output_type": "display_data"
    }
   ],
   "source": [
    "proportions=data.groupby('region')['internet'].value_counts(normalize=True)\n",
    "wide_proportions = proportions.unstack()\n",
    "\n",
    "wide_proportions.plot(kind='bar', stacked=True)"
   ]
  },
  {
   "cell_type": "code",
   "execution_count": 1216,
   "metadata": {},
   "outputs": [
    {
     "name": "stdout",
     "output_type": "stream",
     "text": [
      "      test  lambda         chi2  dof  pval   cramer  power\n",
      "0  pearson     1.0  8147.459454  4.0   0.0  0.17077    1.0\n"
     ]
    }
   ],
   "source": [
    "expected, observed, stats = pingouin.chi2_independence(data=data, x=\"internet\", y='region')\n",
    "print(stats[stats['test'] == 'pearson'])"
   ]
  },
  {
   "cell_type": "code",
   "execution_count": 1217,
   "metadata": {},
   "outputs": [
    {
     "name": "stdout",
     "output_type": "stream",
     "text": [
      "      test  lambda         chi2  dof  pval    cramer  power\n",
      "0  pearson     1.0  7928.305718  1.0   0.0  0.168458    1.0\n"
     ]
    }
   ],
   "source": [
    "expected, observed, stats = pingouin.chi2_independence(data=data, x=\"internet\", y='elderly')\n",
    "print(stats[stats['test'] == 'pearson'])"
   ]
  },
  {
   "cell_type": "code",
   "execution_count": 1218,
   "metadata": {},
   "outputs": [
    {
     "name": "stdout",
     "output_type": "stream",
     "text": [
      "      test  lambda         chi2  dof  pval    cramer  power\n",
      "0  pearson     1.0  3304.206009  4.0   0.0  0.108751    1.0\n"
     ]
    }
   ],
   "source": [
    "expected, observed, stats = pingouin.chi2_independence(data=data, x=\"internet\", y='race')\n",
    "print(stats[stats['test'] == 'pearson'])"
   ]
  },
  {
   "cell_type": "code",
   "execution_count": 1219,
   "metadata": {},
   "outputs": [
    {
     "name": "stdout",
     "output_type": "stream",
     "text": [
      "      test  lambda       chi2  dof          pval    cramer  power\n",
      "0  pearson     1.0  62.017072  4.0  1.092521e-12  0.014899    1.0\n"
     ]
    }
   ],
   "source": [
    "expected, observed, stats = pingouin.chi2_independence(data=data, x=\"internet\", y='diabetes_restriction')\n",
    "print(stats[stats['test'] == 'pearson'])"
   ]
  },
  {
   "cell_type": "code",
   "execution_count": 1220,
   "metadata": {},
   "outputs": [
    {
     "name": "stdout",
     "output_type": "stream",
     "text": [
      "      test  lambda       chi2  dof          pval    cramer     power\n",
      "0  pearson     1.0  25.809154  1.0  3.768967e-07  0.009611  0.999097\n"
     ]
    }
   ],
   "source": [
    "expected, observed, stats = pingouin.chi2_independence(data=data, x=\"internet\", y='dificuldade_atividades_diarias')\n",
    "print(stats[stats['test'] == 'pearson'])"
   ]
  },
  {
   "cell_type": "code",
   "execution_count": 1221,
   "metadata": {},
   "outputs": [
    {
     "data": {
      "text/plain": [
       "(   Variable         N         Mean           SD         SE    95% Conf.  \\\n",
       " 0    no_int   55802.0  1510.907945  1964.243054   8.315155  1494.610187   \n",
       " 1       int  223408.0  3248.604719  5557.016467  11.756886  3225.561520   \n",
       " 2  combined  279210.0  2901.314309  5095.361652   9.642941  2882.414409   \n",
       " \n",
       "       Interval  \n",
       " 0  1527.205702  \n",
       " 1  3271.647918  \n",
       " 2  2920.214209  ,\n",
       "              Independent t-test      results\n",
       " 0  Difference (no_int - int) =    -1737.6968\n",
       " 1         Degrees of freedom =   279208.0000\n",
       " 2                          t =      -72.7417\n",
       " 3      Two side test p value =        0.0000\n",
       " 4     Difference < 0 p value =        0.0000\n",
       " 5     Difference > 0 p value =        1.0000\n",
       " 6                  Cohen's d =       -0.3443\n",
       " 7                  Hedge's g =       -0.3442\n",
       " 8             Glass's delta1 =       -0.8847\n",
       " 9           Point-Biserial r =       -0.1364)"
      ]
     },
     "execution_count": 1221,
     "metadata": {},
     "output_type": "execute_result"
    }
   ],
   "source": [
    "#T test year income and internet use\n",
    "\n",
    "rp.ttest(group1= data['year_income_usd'][data['internet'] == 0], group1_name= \"no_int\",\n",
    "         group2= data['year_income_usd'][data['internet'] == 1], group2_name= \"int\")"
   ]
  },
  {
   "cell_type": "code",
   "execution_count": 1222,
   "metadata": {},
   "outputs": [
    {
     "data": {
      "text/plain": [
       "(   Variable         N       Mean         SD        SE  95% Conf.   Interval\n",
       " 0    no_int   55815.0  40.670196  24.835676  0.105124  40.464153  40.876239\n",
       " 1       int  223567.0  33.918870  20.592567  0.043552  33.833509  34.004230\n",
       " 2  combined  279382.0  35.267651  21.675970  0.041009  35.187275  35.348028,\n",
       "              Independent t-test      results\n",
       " 0  Difference (no_int - int) =        6.7513\n",
       " 1         Degrees of freedom =   279380.0000\n",
       " 2                          t =       66.3413\n",
       " 3      Two side test p value =        0.0000\n",
       " 4     Difference < 0 p value =        1.0000\n",
       " 5     Difference > 0 p value =        0.0000\n",
       " 6                  Cohen's d =        0.3139\n",
       " 7                  Hedge's g =        0.3139\n",
       " 8             Glass's delta1 =        0.2718\n",
       " 9           Point-Biserial r =        0.1245)"
      ]
     },
     "execution_count": 1222,
     "metadata": {},
     "output_type": "execute_result"
    }
   ],
   "source": [
    "##T test age and internet use\n",
    "\n",
    "rp.ttest(group1= data['age'][data['internet'] == 0], group1_name= \"no_int\",\n",
    "         group2= data['age'][data['internet'] == 1], group2_name= \"int\")"
   ]
  },
  {
   "cell_type": "code",
   "execution_count": 1223,
   "metadata": {},
   "outputs": [
    {
     "data": {
      "text/plain": [
       "house_type   \n",
       "1           1    187838\n",
       "            0     24448\n",
       "2           1     35729\n",
       "            0     31367\n",
       "Name: internet, dtype: int64"
      ]
     },
     "execution_count": 1223,
     "metadata": {},
     "output_type": "execute_result"
    }
   ],
   "source": [
    "#internet and house type group comparison\n",
    "house_type=data.groupby('house_type')['internet'].value_counts()\n",
    "house_type"
   ]
  },
  {
   "cell_type": "code",
   "execution_count": 1224,
   "metadata": {},
   "outputs": [],
   "source": [
    "success_counts=np.array([187838,35729])"
   ]
  },
  {
   "cell_type": "code",
   "execution_count": 1225,
   "metadata": {},
   "outputs": [],
   "source": [
    "n = np.array([212286, 67096])"
   ]
  },
  {
   "cell_type": "code",
   "execution_count": 1226,
   "metadata": {},
   "outputs": [
    {
     "name": "stdout",
     "output_type": "stream",
     "text": [
      "0.000\n"
     ]
    }
   ],
   "source": [
    "stat, p_value = proportions_ztest(count=success_counts, nobs=n, alternative ='larger')\n",
    "print('{0:0.3f}'.format(p_value))"
   ]
  },
  {
   "cell_type": "code",
   "execution_count": 1227,
   "metadata": {},
   "outputs": [
    {
     "data": {
      "text/plain": [
       "gender   \n",
       "1       1    106048\n",
       "        0     28394\n",
       "2       1    117519\n",
       "        0     27421\n",
       "Name: internet, dtype: int64"
      ]
     },
     "execution_count": 1227,
     "metadata": {},
     "output_type": "execute_result"
    }
   ],
   "source": [
    "#Gender\n",
    "gender=data.groupby('gender')['internet'].value_counts()\n",
    "gender"
   ]
  },
  {
   "cell_type": "code",
   "execution_count": 1228,
   "metadata": {},
   "outputs": [],
   "source": [
    "success_counts=np.array([106048,117519])\n",
    "n = np.array([134442, 144940])"
   ]
  },
  {
   "cell_type": "code",
   "execution_count": 1229,
   "metadata": {},
   "outputs": [
    {
     "name": "stdout",
     "output_type": "stream",
     "text": [
      "1.000\n"
     ]
    }
   ],
   "source": [
    "stat, p_value = proportions_ztest(count=success_counts, nobs=n, alternative ='larger')\n",
    "print('{0:0.3f}'.format(p_value))"
   ]
  },
  {
   "cell_type": "code",
   "execution_count": 1230,
   "metadata": {},
   "outputs": [
    {
     "data": {
      "text/plain": [
       "race   \n",
       "1.0   1     84794\n",
       "      0     14225\n",
       "2.0   1     22262\n",
       "      0      6042\n",
       "3.0   1      1487\n",
       "      0       211\n",
       "4.0   1    113595\n",
       "      0     34678\n",
       "5.0   1      1407\n",
       "      0       657\n",
       "Name: internet, dtype: int64"
      ]
     },
     "execution_count": 1230,
     "metadata": {},
     "output_type": "execute_result"
    }
   ],
   "source": [
    "#race all vs white\n",
    "race=data.groupby('race')['internet'].value_counts()\n",
    "race"
   ]
  },
  {
   "cell_type": "code",
   "execution_count": 1231,
   "metadata": {},
   "outputs": [
    {
     "name": "stdout",
     "output_type": "stream",
     "text": [
      "0.000\n"
     ]
    }
   ],
   "source": [
    "#white vs black\n",
    "success_counts=np.array([84794,22262])\n",
    "n = np.array([99019, 28304])\n",
    "stat, p_value = proportions_ztest(count=success_counts, nobs=n, alternative ='two-sided')\n",
    "print('{0:0.3f}'.format(p_value))"
   ]
  },
  {
   "cell_type": "code",
   "execution_count": 1232,
   "metadata": {},
   "outputs": [
    {
     "name": "stdout",
     "output_type": "stream",
     "text": [
      "0.024\n"
     ]
    }
   ],
   "source": [
    "#white vs yellow\n",
    "success_counts=np.array([84794,1487])\n",
    "n = np.array([99019, 1698])\n",
    "stat, p_value = proportions_ztest(count=success_counts, nobs=n, alternative ='two-sided')\n",
    "print('{0:0.3f}'.format(p_value))"
   ]
  },
  {
   "cell_type": "code",
   "execution_count": 1233,
   "metadata": {},
   "outputs": [
    {
     "name": "stdout",
     "output_type": "stream",
     "text": [
      "0.000\n"
     ]
    }
   ],
   "source": [
    "#white vs brown\n",
    "success_counts=np.array([84794,113595])\n",
    "n = np.array([99019, 148273])\n",
    "stat, p_value = proportions_ztest(count=success_counts, nobs=n, alternative ='two-sided')\n",
    "print('{0:0.3f}'.format(p_value))"
   ]
  },
  {
   "cell_type": "code",
   "execution_count": 1234,
   "metadata": {},
   "outputs": [
    {
     "name": "stdout",
     "output_type": "stream",
     "text": [
      "0.000\n"
     ]
    }
   ],
   "source": [
    "#white vs other\n",
    "success_counts=np.array([84794,1407])\n",
    "n = np.array([99019, 2064])\n",
    "stat, p_value = proportions_ztest(count=success_counts, nobs=n, alternative ='two-sided')\n",
    "print('{0:0.3f}'.format(p_value))"
   ]
  },
  {
   "cell_type": "code",
   "execution_count": 1235,
   "metadata": {},
   "outputs": [
    {
     "data": {
      "text/plain": [
       "region        \n",
       "center_west  1    27229\n",
       "             0     3575\n",
       "north        1    45076\n",
       "             0    16371\n",
       "northeast    1    74387\n",
       "             0    25166\n",
       "south        1    27046\n",
       "             0     4192\n",
       "southeast    1    49829\n",
       "             0     6511\n",
       "Name: internet, dtype: int64"
      ]
     },
     "execution_count": 1235,
     "metadata": {},
     "output_type": "execute_result"
    }
   ],
   "source": [
    "#regions southeast vs all\n",
    "#southeast with higher proportional internet users\n",
    "region=data.groupby('region')['internet'].value_counts()\n",
    "region"
   ]
  },
  {
   "cell_type": "code",
   "execution_count": 1236,
   "metadata": {},
   "outputs": [
    {
     "name": "stdout",
     "output_type": "stream",
     "text": [
      "0.000\n"
     ]
    }
   ],
   "source": [
    "#southeast vs north\n",
    "success_counts=np.array([49829,45076])\n",
    "n = np.array([56340, 61393])\n",
    "stat, p_value = proportions_ztest(count=success_counts, nobs=n, alternative ='two-sided')\n",
    "print('{0:0.3f}'.format(p_value))"
   ]
  },
  {
   "cell_type": "code",
   "execution_count": 1237,
   "metadata": {},
   "outputs": [
    {
     "name": "stdout",
     "output_type": "stream",
     "text": [
      "0.000\n"
     ]
    }
   ],
   "source": [
    "#southeast vs northeast\n",
    "success_counts=np.array([49829,74387])\n",
    "n = np.array([56340, 99553])\n",
    "stat, p_value = proportions_ztest(count=success_counts, nobs=n, alternative ='two-sided')\n",
    "print('{0:0.3f}'.format(p_value))"
   ]
  },
  {
   "cell_type": "code",
   "execution_count": 1238,
   "metadata": {},
   "outputs": [
    {
     "name": "stdout",
     "output_type": "stream",
     "text": [
      "0.829\n"
     ]
    }
   ],
   "source": [
    "#southeast vs center west\n",
    "success_counts=np.array([49829,27229])\n",
    "n = np.array([56340, 30804])\n",
    "stat, p_value = proportions_ztest(count=success_counts, nobs=n, alternative ='two-sided')\n",
    "print('{0:0.3f}'.format(p_value))"
   ]
  },
  {
   "cell_type": "code",
   "execution_count": 1239,
   "metadata": {},
   "outputs": [
    {
     "name": "stdout",
     "output_type": "stream",
     "text": [
      "0.0000\n"
     ]
    }
   ],
   "source": [
    "#southeast vs south\n",
    "success_counts=np.array([49829,27046])\n",
    "n = np.array([56340, 31238])\n",
    "stat, p_value = proportions_ztest(count=success_counts, nobs=n, alternative ='two-sided')\n",
    "print('{0:0.4f}'.format(p_value))"
   ]
  },
  {
   "cell_type": "code",
   "execution_count": 1240,
   "metadata": {},
   "outputs": [
    {
     "data": {
      "text/plain": [
       "internet  educational_level                                                    \n",
       "0         Regular do ensino fundamental ou do 1º grau                              13283\n",
       "          Antigo primário (elementar)                                               7916\n",
       "          Regular do ensino médio ou do 2º grau                                     6976\n",
       "          Classe de alfabetização – CA                                              2029\n",
       "          Superior – graduação                                                       895\n",
       "          Antigo ginasial (médio 1º ciclo)                                           872\n",
       "          Educação de jovens e adultos (EJA) ou supletivo do ensino fundamental      741\n",
       "          Alfabetização de jovens e adultos                                          494\n",
       "          Educação de jovens e adultos (EJA) ou supletivo do ensino médio            354\n",
       "          Antigo científico, clássico etc. (médio 2º ciclo)                          353\n",
       "          Pré-escola                                                                 280\n",
       "          Especialização de nível superior (duração mínima de 360 horas)             125\n",
       "          Creche                                                                      47\n",
       "          Mestrado                                                                     6\n",
       "          Doutorado                                                                    4\n",
       "1         Regular do ensino médio ou do 2º grau                                    56199\n",
       "          Regular do ensino fundamental ou do 1º grau                              33128\n",
       "          Superior – graduação                                                     23328\n",
       "          Antigo primário (elementar)                                              11325\n",
       "          Especialização de nível superior (duração mínima de 360 horas)            6220\n",
       "          Antigo ginasial (médio 1º ciclo)                                          2805\n",
       "          Educação de jovens e adultos (EJA) ou supletivo do ensino médio           2671\n",
       "          Antigo científico, clássico etc. (médio 2º ciclo)                         2089\n",
       "          Educação de jovens e adultos (EJA) ou supletivo do ensino fundamental     1674\n",
       "          Classe de alfabetização – CA                                              1523\n",
       "          Mestrado                                                                  1053\n",
       "          Alfabetização de jovens e adultos                                          528\n",
       "          Doutorado                                                                  440\n",
       "          Pré-escola                                                                 347\n",
       "          Creche                                                                     308\n",
       "Name: educational_level, dtype: int64"
      ]
     },
     "execution_count": 1240,
     "metadata": {},
     "output_type": "execute_result"
    }
   ],
   "source": [
    "data.groupby('internet')['educational_level'].value_counts()"
   ]
  },
  {
   "cell_type": "code",
   "execution_count": 1241,
   "metadata": {},
   "outputs": [
    {
     "data": {
      "text/plain": [
       "internet  educational_level                                                    \n",
       "0         Regular do ensino fundamental ou do 1º grau                              0.386415\n",
       "          Antigo primário (elementar)                                              0.230284\n",
       "          Regular do ensino médio ou do 2º grau                                    0.202938\n",
       "          Classe de alfabetização – CA                                             0.059025\n",
       "          Superior – graduação                                                     0.026036\n",
       "          Antigo ginasial (médio 1º ciclo)                                         0.025367\n",
       "          Educação de jovens e adultos (EJA) ou supletivo do ensino fundamental    0.021556\n",
       "          Alfabetização de jovens e adultos                                        0.014371\n",
       "          Educação de jovens e adultos (EJA) ou supletivo do ensino médio          0.010298\n",
       "          Antigo científico, clássico etc. (médio 2º ciclo)                        0.010269\n",
       "          Pré-escola                                                               0.008145\n",
       "          Especialização de nível superior (duração mínima de 360 horas)           0.003636\n",
       "          Creche                                                                   0.001367\n",
       "          Mestrado                                                                 0.000175\n",
       "          Doutorado                                                                0.000116\n",
       "1         Regular do ensino médio ou do 2º grau                                    0.391254\n",
       "          Regular do ensino fundamental ou do 1º grau                              0.230635\n",
       "          Superior – graduação                                                     0.162408\n",
       "          Antigo primário (elementar)                                              0.078844\n",
       "          Especialização de nível superior (duração mínima de 360 horas)           0.043303\n",
       "          Antigo ginasial (médio 1º ciclo)                                         0.019528\n",
       "          Educação de jovens e adultos (EJA) ou supletivo do ensino médio          0.018595\n",
       "          Antigo científico, clássico etc. (médio 2º ciclo)                        0.014544\n",
       "          Educação de jovens e adultos (EJA) ou supletivo do ensino fundamental    0.011654\n",
       "          Classe de alfabetização – CA                                             0.010603\n",
       "          Mestrado                                                                 0.007331\n",
       "          Alfabetização de jovens e adultos                                        0.003676\n",
       "          Doutorado                                                                0.003063\n",
       "          Pré-escola                                                               0.002416\n",
       "          Creche                                                                   0.002144\n",
       "Name: educational_level, dtype: float64"
      ]
     },
     "execution_count": 1241,
     "metadata": {},
     "output_type": "execute_result"
    }
   ],
   "source": [
    "data.groupby('internet')['educational_level'].value_counts(normalize=True)"
   ]
  },
  {
   "cell_type": "code",
   "execution_count": 1242,
   "metadata": {},
   "outputs": [
    {
     "data": {
      "text/plain": [
       "0 limita              4724\n",
       "Um pouco              1365\n",
       "Moderadamente          604\n",
       "Intensamente           307\n",
       "Muito intensamente     101\n",
       "Name: diabetes_restriction, dtype: int64"
      ]
     },
     "execution_count": 1242,
     "metadata": {},
     "output_type": "execute_result"
    }
   ],
   "source": [
    "data.diabetes_restriction.value_counts()"
   ]
  },
  {
   "cell_type": "code",
   "execution_count": 1243,
   "metadata": {},
   "outputs": [
    {
     "data": {
      "text/plain": [
       "0 limita              4724\n",
       "Um pouco              1365\n",
       "Moderadamente          604\n",
       "Intensamente           307\n",
       "Muito intensamente     101\n",
       "Name: diabetes_restriction, dtype: int64"
      ]
     },
     "execution_count": 1243,
     "metadata": {},
     "output_type": "execute_result"
    }
   ],
   "source": [
    "data.diabetes_restriction.value_counts()\n"
   ]
  },
  {
   "cell_type": "code",
   "execution_count": 1244,
   "metadata": {},
   "outputs": [
    {
     "data": {
      "text/plain": [
       "internet  diabetes_restriction\n",
       "0         0 limita                1444\n",
       "          Um pouco                 547\n",
       "          Moderadamente            231\n",
       "          Intensamente             121\n",
       "          Muito intensamente        46\n",
       "1         0 limita                3280\n",
       "          Um pouco                 818\n",
       "          Moderadamente            373\n",
       "          Intensamente             186\n",
       "          Muito intensamente        55\n",
       "Name: diabetes_restriction, dtype: int64"
      ]
     },
     "execution_count": 1244,
     "metadata": {},
     "output_type": "execute_result"
    }
   ],
   "source": [
    "data.groupby('internet')['diabetes_restriction'].value_counts()"
   ]
  },
  {
   "cell_type": "code",
   "execution_count": 1245,
   "metadata": {},
   "outputs": [
    {
     "data": {
      "text/plain": [
       "internet  diabetes_restriction\n",
       "0         0 limita                0.604437\n",
       "          Um pouco                0.228966\n",
       "          Moderadamente           0.096693\n",
       "          Intensamente            0.050649\n",
       "          Muito intensamente      0.019255\n",
       "1         0 limita                0.696095\n",
       "          Um pouco                0.173599\n",
       "          Moderadamente           0.079160\n",
       "          Intensamente            0.039474\n",
       "          Muito intensamente      0.011672\n",
       "Name: diabetes_restriction, dtype: float64"
      ]
     },
     "execution_count": 1245,
     "metadata": {},
     "output_type": "execute_result"
    }
   ],
   "source": [
    "data.groupby('internet')['diabetes_restriction'].value_counts(normalize=True)"
   ]
  },
  {
   "cell_type": "code",
   "execution_count": 1246,
   "metadata": {},
   "outputs": [
    {
     "name": "stdout",
     "output_type": "stream",
     "text": [
      "0.000\n"
     ]
    }
   ],
   "source": [
    "#diabetes restrictions \n",
    "success_counts=np.array([945,1432])\n",
    "n = np.array([2389, 4712])\n",
    "stat, p_value = proportions_ztest(count=success_counts, nobs=n)\n",
    "print('{0:0.3f}'.format(p_value))"
   ]
  },
  {
   "cell_type": "code",
   "execution_count": 1247,
   "metadata": {},
   "outputs": [
    {
     "data": {
      "text/plain": [
       "0.0    5605\n",
       "1.0    3645\n",
       "Name: dificuldade_atividades_diarias, dtype: int64"
      ]
     },
     "execution_count": 1247,
     "metadata": {},
     "output_type": "execute_result"
    }
   ],
   "source": [
    "data.dificuldade_atividades_diarias.value_counts()"
   ]
  },
  {
   "cell_type": "code",
   "execution_count": 1248,
   "metadata": {},
   "outputs": [
    {
     "data": {
      "text/plain": [
       "dificuldade_atividades_diarias   \n",
       "0.0                             1    3182\n",
       "                                0    2423\n",
       "1.0                             1    2264\n",
       "                                0    1381\n",
       "Name: internet, dtype: int64"
      ]
     },
     "execution_count": 1248,
     "metadata": {},
     "output_type": "execute_result"
    }
   ],
   "source": [
    "data.groupby('dificuldade_atividades_diarias')['internet'].value_counts()"
   ]
  },
  {
   "cell_type": "code",
   "execution_count": 1249,
   "metadata": {},
   "outputs": [
    {
     "name": "stdout",
     "output_type": "stream",
     "text": [
      "0.000\n"
     ]
    }
   ],
   "source": [
    "#limitations \n",
    "success_counts=np.array([3182,2264])\n",
    "n = np.array([5605, 3645])\n",
    "stat, p_value = proportions_ztest(count=success_counts, nobs=n)\n",
    "print('{0:0.3f}'.format(p_value))"
   ]
  },
  {
   "cell_type": "code",
   "execution_count": 1250,
   "metadata": {},
   "outputs": [
    {
     "data": {
      "text/plain": [
       "internet  ultima_consulta_medico \n",
       "0         Até 1 ano                   38335\n",
       "          Mais de 1 ano a 2 anos       7870\n",
       "          Mais de 3 anos               5902\n",
       "          Mais de 2 anos a 3 anos      2854\n",
       "          Nunca foi ao médico           854\n",
       "1         Até 1 ano                  168049\n",
       "          Mais de 1 ano a 2 anos      30564\n",
       "          Mais de 3 anos              14577\n",
       "          Mais de 2 anos a 3 anos      9225\n",
       "          Nunca foi ao médico          1152\n",
       "Name: ultima_consulta_medico, dtype: int64"
      ]
     },
     "execution_count": 1250,
     "metadata": {},
     "output_type": "execute_result"
    }
   ],
   "source": [
    "data.groupby('internet')['ultima_consulta_medico'].value_counts()"
   ]
  },
  {
   "cell_type": "code",
   "execution_count": 1251,
   "metadata": {},
   "outputs": [
    {
     "data": {
      "text/plain": [
       "internet  elderly   \n",
       "0         no_elderly     40287\n",
       "          elderly        15528\n",
       "1         no_elderly    195541\n",
       "          elderly        28026\n",
       "Name: elderly, dtype: int64"
      ]
     },
     "execution_count": 1251,
     "metadata": {},
     "output_type": "execute_result"
    }
   ],
   "source": [
    "data.groupby('internet')['elderly'].value_counts()\n"
   ]
  },
  {
   "cell_type": "code",
   "execution_count": 1252,
   "metadata": {},
   "outputs": [
    {
     "name": "stdout",
     "output_type": "stream",
     "text": [
      "0.000\n"
     ]
    }
   ],
   "source": [
    "#elderly vs non-elderly\n",
    "success_counts=np.array([15528,28026])\n",
    "n = np.array([55815, 223567])\n",
    "stat, p_value = proportions_ztest(count=success_counts, nobs=n, alternative ='two-sided')\n",
    "print('{0:0.3f}'.format(p_value))"
   ]
  },
  {
   "cell_type": "markdown",
   "metadata": {},
   "source": [
    "Logistic regression"
   ]
  },
  {
   "cell_type": "code",
   "execution_count": 1253,
   "metadata": {},
   "outputs": [
    {
     "data": {
      "text/html": [
       "<style type=\"text/css\">\n",
       "#T_2995f_row0_col0, #T_2995f_row1_col1, #T_2995f_row2_col2 {\n",
       "  background-color: #b40426;\n",
       "  color: #f1f1f1;\n",
       "}\n",
       "#T_2995f_row0_col1 {\n",
       "  background-color: #9fbfff;\n",
       "  color: #000000;\n",
       "}\n",
       "#T_2995f_row0_col2 {\n",
       "  background-color: #7093f3;\n",
       "  color: #f1f1f1;\n",
       "}\n",
       "#T_2995f_row1_col0 {\n",
       "  background-color: #6c8ff1;\n",
       "  color: #f1f1f1;\n",
       "}\n",
       "#T_2995f_row1_col2, #T_2995f_row2_col0, #T_2995f_row2_col1 {\n",
       "  background-color: #3b4cc0;\n",
       "  color: #f1f1f1;\n",
       "}\n",
       "</style>\n",
       "<table id=\"T_2995f_\">\n",
       "  <thead>\n",
       "    <tr>\n",
       "      <th class=\"blank level0\" >&nbsp;</th>\n",
       "      <th class=\"col_heading level0 col0\" >age</th>\n",
       "      <th class=\"col_heading level0 col1\" >dificuldade_atividades_diarias</th>\n",
       "      <th class=\"col_heading level0 col2\" >year_income_usd</th>\n",
       "    </tr>\n",
       "  </thead>\n",
       "  <tbody>\n",
       "    <tr>\n",
       "      <th id=\"T_2995f_level0_row0\" class=\"row_heading level0 row0\" >age</th>\n",
       "      <td id=\"T_2995f_row0_col0\" class=\"data row0 col0\" >1.000000</td>\n",
       "      <td id=\"T_2995f_row0_col1\" class=\"data row0 col1\" >0.295724</td>\n",
       "      <td id=\"T_2995f_row0_col2\" class=\"data row0 col2\" >0.162242</td>\n",
       "    </tr>\n",
       "    <tr>\n",
       "      <th id=\"T_2995f_level0_row1\" class=\"row_heading level0 row1\" >dificuldade_atividades_diarias</th>\n",
       "      <td id=\"T_2995f_row1_col0\" class=\"data row1 col0\" >0.295724</td>\n",
       "      <td id=\"T_2995f_row1_col1\" class=\"data row1 col1\" >1.000000</td>\n",
       "      <td id=\"T_2995f_row1_col2\" class=\"data row1 col2\" >-0.011220</td>\n",
       "    </tr>\n",
       "    <tr>\n",
       "      <th id=\"T_2995f_level0_row2\" class=\"row_heading level0 row2\" >year_income_usd</th>\n",
       "      <td id=\"T_2995f_row2_col0\" class=\"data row2 col0\" >0.162242</td>\n",
       "      <td id=\"T_2995f_row2_col1\" class=\"data row2 col1\" >-0.011220</td>\n",
       "      <td id=\"T_2995f_row2_col2\" class=\"data row2 col2\" >1.000000</td>\n",
       "    </tr>\n",
       "  </tbody>\n",
       "</table>\n"
      ],
      "text/plain": [
       "<pandas.io.formats.style.Styler at 0x29a49e1f0>"
      ]
     },
     "execution_count": 1253,
     "metadata": {},
     "output_type": "execute_result"
    }
   ],
   "source": [
    "corr = data.corr()\n",
    "corr.style.background_gradient(cmap='coolwarm')"
   ]
  },
  {
   "cell_type": "code",
   "execution_count": 1254,
   "metadata": {},
   "outputs": [
    {
     "data": {
      "text/plain": [
       "state                                  0\n",
       "region                                 0\n",
       "house_type                             0\n",
       "internet                               0\n",
       "gender                                 0\n",
       "age                                    0\n",
       "ultima_consulta_medico                 0\n",
       "age_group                              0\n",
       "elderly                                0\n",
       "income_class                           0\n",
       "race                                  24\n",
       "year_income_usd                      172\n",
       "educational_level                 101369\n",
       "dificuldade_atividades_diarias    270132\n",
       "diabetes_restriction              272281\n",
       "dtype: int64"
      ]
     },
     "execution_count": 1254,
     "metadata": {},
     "output_type": "execute_result"
    }
   ],
   "source": [
    "data.isna().sum().sort_values()\n"
   ]
  },
  {
   "cell_type": "code",
   "execution_count": 1255,
   "metadata": {},
   "outputs": [
    {
     "data": {
      "text/plain": [
       "state                     0\n",
       "region                    0\n",
       "house_type                0\n",
       "internet                  0\n",
       "gender                    0\n",
       "age                       0\n",
       "race                      0\n",
       "ultima_consulta_medico    0\n",
       "year_income_usd           0\n",
       "age_group                 0\n",
       "elderly                   0\n",
       "income_class              0\n",
       "dtype: int64"
      ]
     },
     "execution_count": 1255,
     "metadata": {},
     "output_type": "execute_result"
    }
   ],
   "source": [
    "\n",
    "#opted to drop educational_level, dificuldade_atividades_diarias, diabetes_restriction due to to many NA values\n",
    "data_clean=data.drop(['educational_level','dificuldade_atividades_diarias','diabetes_restriction'], axis=1)\n",
    "data_clean=data_clean.dropna()\n",
    "data_clean.isna().sum().sort_values()"
   ]
  },
  {
   "cell_type": "code",
   "execution_count": 1256,
   "metadata": {},
   "outputs": [
    {
     "name": "stdout",
     "output_type": "stream",
     "text": [
      "<class 'pandas.core.frame.DataFrame'>\n",
      "Int64Index: 279186 entries, 0 to 279381\n",
      "Data columns (total 12 columns):\n",
      " #   Column                  Non-Null Count   Dtype   \n",
      "---  ------                  --------------   -----   \n",
      " 0   state                   279186 non-null  object  \n",
      " 1   region                  279186 non-null  object  \n",
      " 2   house_type              279186 non-null  category\n",
      " 3   internet                279186 non-null  category\n",
      " 4   gender                  279186 non-null  category\n",
      " 5   age                     279186 non-null  int64   \n",
      " 6   race                    279186 non-null  category\n",
      " 7   ultima_consulta_medico  279186 non-null  object  \n",
      " 8   year_income_usd         279186 non-null  float64 \n",
      " 9   age_group               279186 non-null  object  \n",
      " 10  elderly                 279186 non-null  object  \n",
      " 11  income_class            279186 non-null  object  \n",
      "dtypes: category(4), float64(1), int64(1), object(6)\n",
      "memory usage: 20.2+ MB\n"
     ]
    }
   ],
   "source": [
    "data_clean.info()"
   ]
  },
  {
   "cell_type": "code",
   "execution_count": 1257,
   "metadata": {},
   "outputs": [],
   "source": [
    "data_clean.to_csv('data_clean2.csv')"
   ]
  }
 ],
 "metadata": {
  "interpreter": {
   "hash": "37067346aeabd3ec11f0d6a36e38dc9f30d97b42052578929dcbc8116d3c71fd"
  },
  "kernelspec": {
   "display_name": "Python 3.9.13 ('base')",
   "language": "python",
   "name": "python3"
  },
  "language_info": {
   "codemirror_mode": {
    "name": "ipython",
    "version": 3
   },
   "file_extension": ".py",
   "mimetype": "text/x-python",
   "name": "python",
   "nbconvert_exporter": "python",
   "pygments_lexer": "ipython3",
   "version": "3.9.13"
  },
  "orig_nbformat": 4
 },
 "nbformat": 4,
 "nbformat_minor": 2
}
