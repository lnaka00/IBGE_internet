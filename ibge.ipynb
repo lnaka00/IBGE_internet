{
 "cells": [
  {
   "cell_type": "code",
   "execution_count": 2,
   "metadata": {},
   "outputs": [],
   "source": [
    "\n",
    "import pandas as pd\n",
    "import numpy as np\n",
    "import matplotlib.pyplot as plt\n",
    "from matplotlib import style\n",
    "import seaborn as sns\n",
    "import statsmodels.api as sm\n",
    "from scipy import stats\n",
    "from scipy.stats import pearsonr\n",
    "from sklearn.linear_model import LogisticRegression\n",
    "from sklearn.metrics import classification_report, confusion_matrix\n",
    "from sklearn.preprocessing import MinMaxScaler\n",
    "from sklearn.model_selection import train_test_split"
   ]
  },
  {
   "cell_type": "code",
   "execution_count": 3,
   "metadata": {},
   "outputs": [],
   "source": [
    "data=pd.read_csv(\"/Users/luisnakayama/Desktop/ibge/data_internet.csv\")"
   ]
  },
  {
   "cell_type": "code",
   "execution_count": 4,
   "metadata": {},
   "outputs": [
    {
     "data": {
      "text/html": [
       "<div>\n",
       "<style scoped>\n",
       "    .dataframe tbody tr th:only-of-type {\n",
       "        vertical-align: middle;\n",
       "    }\n",
       "\n",
       "    .dataframe tbody tr th {\n",
       "        vertical-align: top;\n",
       "    }\n",
       "\n",
       "    .dataframe thead th {\n",
       "        text-align: right;\n",
       "    }\n",
       "</style>\n",
       "<table border=\"1\" class=\"dataframe\">\n",
       "  <thead>\n",
       "    <tr style=\"text-align: right;\">\n",
       "      <th></th>\n",
       "      <th>id</th>\n",
       "      <th>state</th>\n",
       "      <th>house_type</th>\n",
       "      <th>internet</th>\n",
       "      <th>gender</th>\n",
       "      <th>age</th>\n",
       "      <th>race</th>\n",
       "      <th>educational_level</th>\n",
       "      <th>ultima_consulta_medico</th>\n",
       "      <th>dificuldade_atividades_diarias</th>\n",
       "      <th>diabetes_restriction</th>\n",
       "      <th>populacao</th>\n",
       "      <th>renda_per_capita</th>\n",
       "    </tr>\n",
       "  </thead>\n",
       "  <tbody>\n",
       "    <tr>\n",
       "      <th>0</th>\n",
       "      <td>1</td>\n",
       "      <td>rondonia</td>\n",
       "      <td>1</td>\n",
       "      <td>1</td>\n",
       "      <td>2</td>\n",
       "      <td>55</td>\n",
       "      <td>1.0</td>\n",
       "      <td>Antigo primário (elementar)</td>\n",
       "      <td>Até 1 ano</td>\n",
       "      <td>NaN</td>\n",
       "      <td>NaN</td>\n",
       "      <td>529479</td>\n",
       "      <td>350.0</td>\n",
       "    </tr>\n",
       "    <tr>\n",
       "      <th>1</th>\n",
       "      <td>2</td>\n",
       "      <td>rondonia</td>\n",
       "      <td>1</td>\n",
       "      <td>1</td>\n",
       "      <td>1</td>\n",
       "      <td>69</td>\n",
       "      <td>4.0</td>\n",
       "      <td>NaN</td>\n",
       "      <td>Até 1 ano</td>\n",
       "      <td>0.0</td>\n",
       "      <td>NaN</td>\n",
       "      <td>529479</td>\n",
       "      <td>350.0</td>\n",
       "    </tr>\n",
       "    <tr>\n",
       "      <th>2</th>\n",
       "      <td>3</td>\n",
       "      <td>rondonia</td>\n",
       "      <td>1</td>\n",
       "      <td>1</td>\n",
       "      <td>1</td>\n",
       "      <td>31</td>\n",
       "      <td>2.0</td>\n",
       "      <td>Regular do ensino médio ou do 2º grau</td>\n",
       "      <td>Até 1 ano</td>\n",
       "      <td>NaN</td>\n",
       "      <td>NaN</td>\n",
       "      <td>529479</td>\n",
       "      <td>350.0</td>\n",
       "    </tr>\n",
       "    <tr>\n",
       "      <th>3</th>\n",
       "      <td>4</td>\n",
       "      <td>rondonia</td>\n",
       "      <td>1</td>\n",
       "      <td>1</td>\n",
       "      <td>1</td>\n",
       "      <td>9</td>\n",
       "      <td>2.0</td>\n",
       "      <td>NaN</td>\n",
       "      <td>Até 1 ano</td>\n",
       "      <td>NaN</td>\n",
       "      <td>NaN</td>\n",
       "      <td>529479</td>\n",
       "      <td>350.0</td>\n",
       "    </tr>\n",
       "    <tr>\n",
       "      <th>4</th>\n",
       "      <td>5</td>\n",
       "      <td>rondonia</td>\n",
       "      <td>1</td>\n",
       "      <td>1</td>\n",
       "      <td>2</td>\n",
       "      <td>6</td>\n",
       "      <td>4.0</td>\n",
       "      <td>NaN</td>\n",
       "      <td>Até 1 ano</td>\n",
       "      <td>NaN</td>\n",
       "      <td>NaN</td>\n",
       "      <td>529479</td>\n",
       "      <td>350.0</td>\n",
       "    </tr>\n",
       "  </tbody>\n",
       "</table>\n",
       "</div>"
      ],
      "text/plain": [
       "   id     state  house_type  internet  gender  age  race  \\\n",
       "0   1  rondonia           1         1       2   55   1.0   \n",
       "1   2  rondonia           1         1       1   69   4.0   \n",
       "2   3  rondonia           1         1       1   31   2.0   \n",
       "3   4  rondonia           1         1       1    9   2.0   \n",
       "4   5  rondonia           1         1       2    6   4.0   \n",
       "\n",
       "                       educational_level ultima_consulta_medico  \\\n",
       "0            Antigo primário (elementar)              Até 1 ano   \n",
       "1                                    NaN              Até 1 ano   \n",
       "2  Regular do ensino médio ou do 2º grau              Até 1 ano   \n",
       "3                                    NaN              Até 1 ano   \n",
       "4                                    NaN              Até 1 ano   \n",
       "\n",
       "   dificuldade_atividades_diarias diabetes_restriction  populacao  \\\n",
       "0                             NaN                  NaN     529479   \n",
       "1                             0.0                  NaN     529479   \n",
       "2                             NaN                  NaN     529479   \n",
       "3                             NaN                  NaN     529479   \n",
       "4                             NaN                  NaN     529479   \n",
       "\n",
       "   renda_per_capita  \n",
       "0             350.0  \n",
       "1             350.0  \n",
       "2             350.0  \n",
       "3             350.0  \n",
       "4             350.0  "
      ]
     },
     "execution_count": 4,
     "metadata": {},
     "output_type": "execute_result"
    }
   ],
   "source": [
    "data.head()"
   ]
  },
  {
   "cell_type": "code",
   "execution_count": 5,
   "metadata": {},
   "outputs": [
    {
     "name": "stdout",
     "output_type": "stream",
     "text": [
      "<class 'pandas.core.frame.DataFrame'>\n",
      "RangeIndex: 279382 entries, 0 to 279381\n",
      "Data columns (total 13 columns):\n",
      " #   Column                          Non-Null Count   Dtype  \n",
      "---  ------                          --------------   -----  \n",
      " 0   id                              279382 non-null  int64  \n",
      " 1   state                           279382 non-null  object \n",
      " 2   house_type                      279382 non-null  int64  \n",
      " 3   internet                        279382 non-null  int64  \n",
      " 4   gender                          279382 non-null  int64  \n",
      " 5   age                             279382 non-null  int64  \n",
      " 6   race                            279358 non-null  float64\n",
      " 7   educational_level               178013 non-null  object \n",
      " 8   ultima_consulta_medico          279382 non-null  object \n",
      " 9   dificuldade_atividades_diarias  9250 non-null    float64\n",
      " 10  diabetes_restriction            7101 non-null    object \n",
      " 11  populacao                       279382 non-null  int64  \n",
      " 12  renda_per_capita                279210 non-null  float64\n",
      "dtypes: float64(3), int64(6), object(4)\n",
      "memory usage: 27.7+ MB\n"
     ]
    }
   ],
   "source": [
    "data.info()"
   ]
  },
  {
   "cell_type": "code",
   "execution_count": 6,
   "metadata": {},
   "outputs": [
    {
     "data": {
      "text/html": [
       "<div>\n",
       "<style scoped>\n",
       "    .dataframe tbody tr th:only-of-type {\n",
       "        vertical-align: middle;\n",
       "    }\n",
       "\n",
       "    .dataframe tbody tr th {\n",
       "        vertical-align: top;\n",
       "    }\n",
       "\n",
       "    .dataframe thead th {\n",
       "        text-align: right;\n",
       "    }\n",
       "</style>\n",
       "<table border=\"1\" class=\"dataframe\">\n",
       "  <thead>\n",
       "    <tr style=\"text-align: right;\">\n",
       "      <th></th>\n",
       "      <th>id</th>\n",
       "      <th>house_type</th>\n",
       "      <th>internet</th>\n",
       "      <th>gender</th>\n",
       "      <th>age</th>\n",
       "      <th>race</th>\n",
       "      <th>dificuldade_atividades_diarias</th>\n",
       "      <th>populacao</th>\n",
       "      <th>renda_per_capita</th>\n",
       "    </tr>\n",
       "  </thead>\n",
       "  <tbody>\n",
       "    <tr>\n",
       "      <th>count</th>\n",
       "      <td>279382.000000</td>\n",
       "      <td>279382.000000</td>\n",
       "      <td>279382.000000</td>\n",
       "      <td>279382.000000</td>\n",
       "      <td>279382.000000</td>\n",
       "      <td>279358.000000</td>\n",
       "      <td>9250.000000</td>\n",
       "      <td>2.793820e+05</td>\n",
       "      <td>279210.000000</td>\n",
       "    </tr>\n",
       "    <tr>\n",
       "      <th>mean</th>\n",
       "      <td>139691.500000</td>\n",
       "      <td>1.240159</td>\n",
       "      <td>0.800220</td>\n",
       "      <td>1.518788</td>\n",
       "      <td>35.267651</td>\n",
       "      <td>2.735318</td>\n",
       "      <td>0.394054</td>\n",
       "      <td>4.015985e+06</td>\n",
       "      <td>1314.001046</td>\n",
       "    </tr>\n",
       "    <tr>\n",
       "      <th>std</th>\n",
       "      <td>80650.780791</td>\n",
       "      <td>0.427180</td>\n",
       "      <td>0.399836</td>\n",
       "      <td>0.499648</td>\n",
       "      <td>21.675970</td>\n",
       "      <td>1.417531</td>\n",
       "      <td>0.488673</td>\n",
       "      <td>4.692417e+06</td>\n",
       "      <td>2307.681908</td>\n",
       "    </tr>\n",
       "    <tr>\n",
       "      <th>min</th>\n",
       "      <td>1.000000</td>\n",
       "      <td>1.000000</td>\n",
       "      <td>0.000000</td>\n",
       "      <td>1.000000</td>\n",
       "      <td>0.000000</td>\n",
       "      <td>1.000000</td>\n",
       "      <td>0.000000</td>\n",
       "      <td>1.092790e+05</td>\n",
       "      <td>0.000000</td>\n",
       "    </tr>\n",
       "    <tr>\n",
       "      <th>25%</th>\n",
       "      <td>69846.250000</td>\n",
       "      <td>1.000000</td>\n",
       "      <td>1.000000</td>\n",
       "      <td>1.000000</td>\n",
       "      <td>17.000000</td>\n",
       "      <td>1.000000</td>\n",
       "      <td>0.000000</td>\n",
       "      <td>1.056388e+06</td>\n",
       "      <td>399.000000</td>\n",
       "    </tr>\n",
       "    <tr>\n",
       "      <th>50%</th>\n",
       "      <td>139691.500000</td>\n",
       "      <td>1.000000</td>\n",
       "      <td>1.000000</td>\n",
       "      <td>2.000000</td>\n",
       "      <td>34.000000</td>\n",
       "      <td>4.000000</td>\n",
       "      <td>0.000000</td>\n",
       "      <td>2.185300e+06</td>\n",
       "      <td>760.000000</td>\n",
       "    </tr>\n",
       "    <tr>\n",
       "      <th>75%</th>\n",
       "      <td>209536.750000</td>\n",
       "      <td>1.000000</td>\n",
       "      <td>1.000000</td>\n",
       "      <td>2.000000</td>\n",
       "      <td>52.000000</td>\n",
       "      <td>4.000000</td>\n",
       "      <td>1.000000</td>\n",
       "      <td>5.502683e+06</td>\n",
       "      <td>1397.000000</td>\n",
       "    </tr>\n",
       "    <tr>\n",
       "      <th>max</th>\n",
       "      <td>279382.000000</td>\n",
       "      <td>2.000000</td>\n",
       "      <td>1.000000</td>\n",
       "      <td>2.000000</td>\n",
       "      <td>112.000000</td>\n",
       "      <td>5.000000</td>\n",
       "      <td>1.000000</td>\n",
       "      <td>2.419143e+07</td>\n",
       "      <td>203196.000000</td>\n",
       "    </tr>\n",
       "  </tbody>\n",
       "</table>\n",
       "</div>"
      ],
      "text/plain": [
       "                  id     house_type       internet         gender  \\\n",
       "count  279382.000000  279382.000000  279382.000000  279382.000000   \n",
       "mean   139691.500000       1.240159       0.800220       1.518788   \n",
       "std     80650.780791       0.427180       0.399836       0.499648   \n",
       "min         1.000000       1.000000       0.000000       1.000000   \n",
       "25%     69846.250000       1.000000       1.000000       1.000000   \n",
       "50%    139691.500000       1.000000       1.000000       2.000000   \n",
       "75%    209536.750000       1.000000       1.000000       2.000000   \n",
       "max    279382.000000       2.000000       1.000000       2.000000   \n",
       "\n",
       "                 age           race  dificuldade_atividades_diarias  \\\n",
       "count  279382.000000  279358.000000                     9250.000000   \n",
       "mean       35.267651       2.735318                        0.394054   \n",
       "std        21.675970       1.417531                        0.488673   \n",
       "min         0.000000       1.000000                        0.000000   \n",
       "25%        17.000000       1.000000                        0.000000   \n",
       "50%        34.000000       4.000000                        0.000000   \n",
       "75%        52.000000       4.000000                        1.000000   \n",
       "max       112.000000       5.000000                        1.000000   \n",
       "\n",
       "          populacao  renda_per_capita  \n",
       "count  2.793820e+05     279210.000000  \n",
       "mean   4.015985e+06       1314.001046  \n",
       "std    4.692417e+06       2307.681908  \n",
       "min    1.092790e+05          0.000000  \n",
       "25%    1.056388e+06        399.000000  \n",
       "50%    2.185300e+06        760.000000  \n",
       "75%    5.502683e+06       1397.000000  \n",
       "max    2.419143e+07     203196.000000  "
      ]
     },
     "execution_count": 6,
     "metadata": {},
     "output_type": "execute_result"
    }
   ],
   "source": [
    "data.describe()"
   ]
  },
  {
   "cell_type": "code",
   "execution_count": 7,
   "metadata": {},
   "outputs": [],
   "source": [
    "data=data.drop('id', axis=1)"
   ]
  },
  {
   "cell_type": "code",
   "execution_count": 8,
   "metadata": {},
   "outputs": [
    {
     "name": "stdout",
     "output_type": "stream",
     "text": [
      "Number of numerical features 8\n",
      "discrete features 5\n",
      "['house_type', 'internet', 'gender', 'race', 'dificuldade_atividades_diarias']\n"
     ]
    }
   ],
   "source": [
    "numerical_features=[features for features in data.columns if data[features].dtype!='O']\n",
    "\n",
    "print('Number of numerical features' , len(numerical_features))\n",
    "\n",
    "# discrete features\n",
    "\n",
    "discrete_features = [features for features in numerical_features if len(data[features].unique())<=10]\n",
    "\n",
    "print('discrete features', len(discrete_features))\n",
    "print(discrete_features)"
   ]
  },
  {
   "cell_type": "code",
   "execution_count": 9,
   "metadata": {},
   "outputs": [
    {
     "name": "stdout",
     "output_type": "stream",
     "text": [
      "continous features 3\n"
     ]
    },
    {
     "data": {
      "image/png": "[encoded data removed]",
      "text/plain": [
       "<Figure size 432x288 with 1 Axes>"
      ]
     },
     "metadata": {
      "needs_background": "light"
     },
     "output_type": "display_data"
    },
    {
     "data": {
      "image/png": "[encoded data removed]",
      "text/plain": [
       "<Figure size 432x288 with 1 Axes>"
      ]
     },
     "metadata": {
      "needs_background": "light"
     },
     "output_type": "display_data"
    },
    {
     "data": {
      "image/png": "[encoded data removed]",
      "text/plain": [
       "<Figure size 432x288 with 1 Axes>"
      ]
     },
     "metadata": {
      "needs_background": "light"
     },
     "output_type": "display_data"
    }
   ],
   "source": [
    "# continous features\n",
    "\n",
    "continous_features = [features for features in numerical_features if features not in discrete_features] \n",
    "\n",
    "print(\"continous features\" , len(continous_features))\n",
    "\n",
    "for features in continous_features:\n",
    "    data = data.copy()\n",
    "    data[features].hist(bins=25)\n",
    "    plt.xlabel(features)\n",
    "    plt.ylabel(\"count\")\n",
    "    plt.title(features)\n",
    "    plt.show()"
   ]
  },
  {
   "cell_type": "code",
   "execution_count": 10,
   "metadata": {},
   "outputs": [
    {
     "name": "stdout",
     "output_type": "stream",
     "text": [
      "4\n",
      "The feature is state and number of categories are 27\n",
      "The feature is educational_level and number of categories are 16\n",
      "The feature is ultima_consulta_medico and number of categories are 5\n",
      "The feature is diabetes_restriction and number of categories are 6\n"
     ]
    }
   ],
   "source": [
    "categorical_features = [features for features in data.columns if data[features].dtype=='O']\n",
    "print(len(categorical_features))\n",
    "\n",
    "for features in categorical_features:\n",
    "    print(f\"The feature is {features} and number of categories are {len(data[features].unique())}\")"
   ]
  },
  {
   "cell_type": "code",
   "execution_count": 11,
   "metadata": {},
   "outputs": [
    {
     "data": {
      "text/plain": [
       "state                                  0\n",
       "house_type                             0\n",
       "internet                               0\n",
       "gender                                 0\n",
       "age                                    0\n",
       "ultima_consulta_medico                 0\n",
       "populacao                              0\n",
       "race                                  24\n",
       "renda_per_capita                     172\n",
       "educational_level                 101369\n",
       "dificuldade_atividades_diarias    270132\n",
       "diabetes_restriction              272281\n",
       "dtype: int64"
      ]
     },
     "execution_count": 11,
     "metadata": {},
     "output_type": "execute_result"
    }
   ],
   "source": [
    "#show missing values\n",
    "data.isna().sum().sort_values()"
   ]
  },
  {
   "cell_type": "code",
   "execution_count": 12,
   "metadata": {},
   "outputs": [
    {
     "data": {
      "text/plain": [
       "count    279210.000000\n",
       "mean       1314.001046\n",
       "std        2307.681908\n",
       "min           0.000000\n",
       "25%         399.000000\n",
       "50%         760.000000\n",
       "75%        1397.000000\n",
       "max      203196.000000\n",
       "Name: renda_per_capita, dtype: float64"
      ]
     },
     "execution_count": 12,
     "metadata": {},
     "output_type": "execute_result"
    }
   ],
   "source": [
    "data.renda_per_capita.describe()"
   ]
  },
  {
   "cell_type": "code",
   "execution_count": 34,
   "metadata": {},
   "outputs": [
    {
     "data": {
      "text/html": [
       "<div>\n",
       "<style scoped>\n",
       "    .dataframe tbody tr th:only-of-type {\n",
       "        vertical-align: middle;\n",
       "    }\n",
       "\n",
       "    .dataframe tbody tr th {\n",
       "        vertical-align: top;\n",
       "    }\n",
       "\n",
       "    .dataframe thead tr th {\n",
       "        text-align: left;\n",
       "    }\n",
       "\n",
       "    .dataframe thead tr:last-of-type th {\n",
       "        text-align: right;\n",
       "    }\n",
       "</style>\n",
       "<table border=\"1\" class=\"dataframe\">\n",
       "  <thead>\n",
       "    <tr>\n",
       "      <th></th>\n",
       "      <th colspan=\"2\" halign=\"left\">house_type</th>\n",
       "      <th colspan=\"2\" halign=\"left\">gender</th>\n",
       "      <th colspan=\"2\" halign=\"left\">age</th>\n",
       "      <th colspan=\"2\" halign=\"left\">race</th>\n",
       "      <th colspan=\"2\" halign=\"left\">dificuldade_atividades_diarias</th>\n",
       "      <th colspan=\"2\" halign=\"left\">populacao</th>\n",
       "      <th colspan=\"2\" halign=\"left\">renda_per_capita</th>\n",
       "    </tr>\n",
       "    <tr>\n",
       "      <th></th>\n",
       "      <th>mean</th>\n",
       "      <th>std</th>\n",
       "      <th>mean</th>\n",
       "      <th>std</th>\n",
       "      <th>mean</th>\n",
       "      <th>std</th>\n",
       "      <th>mean</th>\n",
       "      <th>std</th>\n",
       "      <th>mean</th>\n",
       "      <th>std</th>\n",
       "      <th>mean</th>\n",
       "      <th>std</th>\n",
       "      <th>mean</th>\n",
       "      <th>std</th>\n",
       "    </tr>\n",
       "    <tr>\n",
       "      <th>internet</th>\n",
       "      <th></th>\n",
       "      <th></th>\n",
       "      <th></th>\n",
       "      <th></th>\n",
       "      <th></th>\n",
       "      <th></th>\n",
       "      <th></th>\n",
       "      <th></th>\n",
       "      <th></th>\n",
       "      <th></th>\n",
       "      <th></th>\n",
       "      <th></th>\n",
       "      <th></th>\n",
       "      <th></th>\n",
       "    </tr>\n",
       "  </thead>\n",
       "  <tbody>\n",
       "    <tr>\n",
       "      <th>0</th>\n",
       "      <td>1.561982</td>\n",
       "      <td>0.496148</td>\n",
       "      <td>1.491284</td>\n",
       "      <td>0.499928</td>\n",
       "      <td>40.670196</td>\n",
       "      <td>24.835676</td>\n",
       "      <td>3.026875</td>\n",
       "      <td>1.339944</td>\n",
       "      <td>0.363039</td>\n",
       "      <td>0.480939</td>\n",
       "      <td>4.037146e+06</td>\n",
       "      <td>4.204354e+06</td>\n",
       "      <td>684.288018</td>\n",
       "      <td>889.602832</td>\n",
       "    </tr>\n",
       "    <tr>\n",
       "      <th>1</th>\n",
       "      <td>1.159813</td>\n",
       "      <td>0.366434</td>\n",
       "      <td>1.525655</td>\n",
       "      <td>0.499343</td>\n",
       "      <td>33.918870</td>\n",
       "      <td>20.592567</td>\n",
       "      <td>2.662524</td>\n",
       "      <td>1.426988</td>\n",
       "      <td>0.415718</td>\n",
       "      <td>0.492891</td>\n",
       "      <td>4.010702e+06</td>\n",
       "      <td>4.806535e+06</td>\n",
       "      <td>1471.288369</td>\n",
       "      <td>2516.764704</td>\n",
       "    </tr>\n",
       "  </tbody>\n",
       "</table>\n",
       "</div>"
      ],
      "text/plain": [
       "         house_type              gender                  age             \\\n",
       "               mean       std      mean       std       mean        std   \n",
       "internet                                                                  \n",
       "0          1.561982  0.496148  1.491284  0.499928  40.670196  24.835676   \n",
       "1          1.159813  0.366434  1.525655  0.499343  33.918870  20.592567   \n",
       "\n",
       "              race           dificuldade_atividades_diarias            \\\n",
       "              mean       std                           mean       std   \n",
       "internet                                                                \n",
       "0         3.026875  1.339944                       0.363039  0.480939   \n",
       "1         2.662524  1.426988                       0.415718  0.492891   \n",
       "\n",
       "             populacao               renda_per_capita               \n",
       "                  mean           std             mean          std  \n",
       "internet                                                            \n",
       "0         4.037146e+06  4.204354e+06       684.288018   889.602832  \n",
       "1         4.010702e+06  4.806535e+06      1471.288369  2516.764704  "
      ]
     },
     "execution_count": 34,
     "metadata": {},
     "output_type": "execute_result"
    }
   ],
   "source": [
    "comparacao= data.sort_values('renda_per_capita').groupby('internet').agg(['mean','std'])\n",
    "comparacao"
   ]
  },
  {
   "cell_type": "code",
   "execution_count": 13,
   "metadata": {},
   "outputs": [
    {
     "data": {
      "text/html": [
       "<style type=\"text/css\">\n",
       "#T_54af7_row0_col0, #T_54af7_row1_col1, #T_54af7_row2_col2, #T_54af7_row3_col3, #T_54af7_row4_col4, #T_54af7_row5_col5, #T_54af7_row6_col6, #T_54af7_row7_col7 {\n",
       "  background-color: #b40426;\n",
       "  color: #f1f1f1;\n",
       "}\n",
       "#T_54af7_row0_col1, #T_54af7_row0_col2, #T_54af7_row0_col5, #T_54af7_row1_col0, #T_54af7_row1_col3, #T_54af7_row4_col6, #T_54af7_row4_col7, #T_54af7_row7_col4 {\n",
       "  background-color: #3b4cc0;\n",
       "  color: #f1f1f1;\n",
       "}\n",
       "#T_54af7_row0_col3, #T_54af7_row1_col5, #T_54af7_row3_col4 {\n",
       "  background-color: #536edd;\n",
       "  color: #f1f1f1;\n",
       "}\n",
       "#T_54af7_row0_col4 {\n",
       "  background-color: #89acfd;\n",
       "  color: #000000;\n",
       "}\n",
       "#T_54af7_row0_col6, #T_54af7_row4_col1 {\n",
       "  background-color: #7a9df8;\n",
       "  color: #f1f1f1;\n",
       "}\n",
       "#T_54af7_row0_col7 {\n",
       "  background-color: #4257c9;\n",
       "  color: #f1f1f1;\n",
       "}\n",
       "#T_54af7_row1_col2, #T_54af7_row1_col4 {\n",
       "  background-color: #4f69d9;\n",
       "  color: #f1f1f1;\n",
       "}\n",
       "#T_54af7_row1_col6 {\n",
       "  background-color: #6180e9;\n",
       "  color: #f1f1f1;\n",
       "}\n",
       "#T_54af7_row1_col7 {\n",
       "  background-color: #93b5fe;\n",
       "  color: #000000;\n",
       "}\n",
       "#T_54af7_row2_col0 {\n",
       "  background-color: #8badfd;\n",
       "  color: #000000;\n",
       "}\n",
       "#T_54af7_row2_col1 {\n",
       "  background-color: #9dbdff;\n",
       "  color: #000000;\n",
       "}\n",
       "#T_54af7_row2_col3 {\n",
       "  background-color: #6b8df0;\n",
       "  color: #f1f1f1;\n",
       "}\n",
       "#T_54af7_row2_col4 {\n",
       "  background-color: #688aef;\n",
       "  color: #f1f1f1;\n",
       "}\n",
       "#T_54af7_row2_col5 {\n",
       "  background-color: #4961d2;\n",
       "  color: #f1f1f1;\n",
       "}\n",
       "#T_54af7_row2_col6 {\n",
       "  background-color: #5f7fe8;\n",
       "  color: #f1f1f1;\n",
       "}\n",
       "#T_54af7_row2_col7, #T_54af7_row7_col6 {\n",
       "  background-color: #6a8bef;\n",
       "  color: #f1f1f1;\n",
       "}\n",
       "#T_54af7_row3_col0 {\n",
       "  background-color: #8caffe;\n",
       "  color: #000000;\n",
       "}\n",
       "#T_54af7_row3_col1, #T_54af7_row6_col7 {\n",
       "  background-color: #7597f6;\n",
       "  color: #f1f1f1;\n",
       "}\n",
       "#T_54af7_row3_col2 {\n",
       "  background-color: #5572df;\n",
       "  color: #f1f1f1;\n",
       "}\n",
       "#T_54af7_row3_col5 {\n",
       "  background-color: #a3c2fe;\n",
       "  color: #000000;\n",
       "}\n",
       "#T_54af7_row3_col6 {\n",
       "  background-color: #7093f3;\n",
       "  color: #f1f1f1;\n",
       "}\n",
       "#T_54af7_row3_col7 {\n",
       "  background-color: #9bbcff;\n",
       "  color: #000000;\n",
       "}\n",
       "#T_54af7_row4_col0 {\n",
       "  background-color: #aec9fc;\n",
       "  color: #000000;\n",
       "}\n",
       "#T_54af7_row4_col2, #T_54af7_row4_col3, #T_54af7_row6_col4 {\n",
       "  background-color: #445acc;\n",
       "  color: #f1f1f1;\n",
       "}\n",
       "#T_54af7_row4_col5, #T_54af7_row6_col5 {\n",
       "  background-color: #3c4ec2;\n",
       "  color: #f1f1f1;\n",
       "}\n",
       "#T_54af7_row5_col0 {\n",
       "  background-color: #8db0fe;\n",
       "  color: #000000;\n",
       "}\n",
       "#T_54af7_row5_col1 {\n",
       "  background-color: #a2c1ff;\n",
       "  color: #000000;\n",
       "}\n",
       "#T_54af7_row5_col2 {\n",
       "  background-color: #4c66d6;\n",
       "  color: #f1f1f1;\n",
       "}\n",
       "#T_54af7_row5_col3, #T_54af7_row7_col1 {\n",
       "  background-color: #b7cff9;\n",
       "  color: #000000;\n",
       "}\n",
       "#T_54af7_row5_col4 {\n",
       "  background-color: #6485ec;\n",
       "  color: #f1f1f1;\n",
       "}\n",
       "#T_54af7_row5_col6 {\n",
       "  background-color: #5a78e4;\n",
       "  color: #f1f1f1;\n",
       "}\n",
       "#T_54af7_row5_col7 {\n",
       "  background-color: #6788ee;\n",
       "  color: #f1f1f1;\n",
       "}\n",
       "#T_54af7_row6_col0 {\n",
       "  background-color: #aac7fd;\n",
       "  color: #000000;\n",
       "}\n",
       "#T_54af7_row6_col1 {\n",
       "  background-color: #94b6ff;\n",
       "  color: #000000;\n",
       "}\n",
       "#T_54af7_row6_col2, #T_54af7_row7_col2 {\n",
       "  background-color: #455cce;\n",
       "  color: #f1f1f1;\n",
       "}\n",
       "#T_54af7_row6_col3 {\n",
       "  background-color: #6c8ff1;\n",
       "  color: #f1f1f1;\n",
       "}\n",
       "#T_54af7_row7_col0 {\n",
       "  background-color: #6e90f2;\n",
       "  color: #f1f1f1;\n",
       "}\n",
       "#T_54af7_row7_col3 {\n",
       "  background-color: #8fb1fe;\n",
       "  color: #000000;\n",
       "}\n",
       "#T_54af7_row7_col5 {\n",
       "  background-color: #3f53c6;\n",
       "  color: #f1f1f1;\n",
       "}\n",
       "</style>\n",
       "<table id=\"T_54af7_\">\n",
       "  <thead>\n",
       "    <tr>\n",
       "      <th class=\"blank level0\" >&nbsp;</th>\n",
       "      <th class=\"col_heading level0 col0\" >house_type</th>\n",
       "      <th class=\"col_heading level0 col1\" >internet</th>\n",
       "      <th class=\"col_heading level0 col2\" >gender</th>\n",
       "      <th class=\"col_heading level0 col3\" >age</th>\n",
       "      <th class=\"col_heading level0 col4\" >race</th>\n",
       "      <th class=\"col_heading level0 col5\" >dificuldade_atividades_diarias</th>\n",
       "      <th class=\"col_heading level0 col6\" >populacao</th>\n",
       "      <th class=\"col_heading level0 col7\" >renda_per_capita</th>\n",
       "    </tr>\n",
       "  </thead>\n",
       "  <tbody>\n",
       "    <tr>\n",
       "      <th id=\"T_54af7_level0_row0\" class=\"row_heading level0 row0\" >house_type</th>\n",
       "      <td id=\"T_54af7_row0_col0\" class=\"data row0 col0\" >1.000000</td>\n",
       "      <td id=\"T_54af7_row0_col1\" class=\"data row0 col1\" >-0.376425</td>\n",
       "      <td id=\"T_54af7_row0_col2\" class=\"data row0 col2\" >-0.042136</td>\n",
       "      <td id=\"T_54af7_row0_col3\" class=\"data row0 col3\" >-0.033350</td>\n",
       "      <td id=\"T_54af7_row0_col4\" class=\"data row0 col4\" >0.100051</td>\n",
       "      <td id=\"T_54af7_row0_col5\" class=\"data row0 col5\" >-0.028910</td>\n",
       "      <td id=\"T_54af7_row0_col6\" class=\"data row0 col6\" >0.084550</td>\n",
       "      <td id=\"T_54af7_row0_col7\" class=\"data row0 col7\" >-0.153723</td>\n",
       "    </tr>\n",
       "    <tr>\n",
       "      <th id=\"T_54af7_level0_row1\" class=\"row_heading level0 row1\" >internet</th>\n",
       "      <td id=\"T_54af7_row1_col0\" class=\"data row1 col0\" >-0.376425</td>\n",
       "      <td id=\"T_54af7_row1_col1\" class=\"data row1 col1\" >1.000000</td>\n",
       "      <td id=\"T_54af7_row1_col2\" class=\"data row1 col2\" >0.027505</td>\n",
       "      <td id=\"T_54af7_row1_col3\" class=\"data row1 col3\" >-0.124535</td>\n",
       "      <td id=\"T_54af7_row1_col4\" class=\"data row1 col4\" >-0.102773</td>\n",
       "      <td id=\"T_54af7_row1_col5\" class=\"data row1 col5\" >0.053047</td>\n",
       "      <td id=\"T_54af7_row1_col6\" class=\"data row1 col6\" >-0.002253</td>\n",
       "      <td id=\"T_54af7_row1_col7\" class=\"data row1 col7\" >0.136378</td>\n",
       "    </tr>\n",
       "    <tr>\n",
       "      <th id=\"T_54af7_level0_row2\" class=\"row_heading level0 row2\" >gender</th>\n",
       "      <td id=\"T_54af7_row2_col0\" class=\"data row2 col0\" >-0.042136</td>\n",
       "      <td id=\"T_54af7_row2_col1\" class=\"data row2 col1\" >0.027505</td>\n",
       "      <td id=\"T_54af7_row2_col2\" class=\"data row2 col2\" >1.000000</td>\n",
       "      <td id=\"T_54af7_row2_col3\" class=\"data row2 col3\" >0.048007</td>\n",
       "      <td id=\"T_54af7_row2_col4\" class=\"data row2 col4\" >-0.008446</td>\n",
       "      <td id=\"T_54af7_row2_col5\" class=\"data row2 col5\" >0.019911</td>\n",
       "      <td id=\"T_54af7_row2_col6\" class=\"data row2 col6\" >-0.003921</td>\n",
       "      <td id=\"T_54af7_row2_col7\" class=\"data row2 col7\" >-0.003479</td>\n",
       "    </tr>\n",
       "    <tr>\n",
       "      <th id=\"T_54af7_level0_row3\" class=\"row_heading level0 row3\" >age</th>\n",
       "      <td id=\"T_54af7_row3_col0\" class=\"data row3 col0\" >-0.033350</td>\n",
       "      <td id=\"T_54af7_row3_col1\" class=\"data row3 col1\" >-0.124535</td>\n",
       "      <td id=\"T_54af7_row3_col2\" class=\"data row3 col2\" >0.048007</td>\n",
       "      <td id=\"T_54af7_row3_col3\" class=\"data row3 col3\" >1.000000</td>\n",
       "      <td id=\"T_54af7_row3_col4\" class=\"data row3 col4\" >-0.087807</td>\n",
       "      <td id=\"T_54af7_row3_col5\" class=\"data row3 col5\" >0.295724</td>\n",
       "      <td id=\"T_54af7_row3_col6\" class=\"data row3 col6\" >0.052188</td>\n",
       "      <td id=\"T_54af7_row3_col7\" class=\"data row3 col7\" >0.162242</td>\n",
       "    </tr>\n",
       "    <tr>\n",
       "      <th id=\"T_54af7_level0_row4\" class=\"row_heading level0 row4\" >race</th>\n",
       "      <td id=\"T_54af7_row4_col0\" class=\"data row4 col0\" >0.100051</td>\n",
       "      <td id=\"T_54af7_row4_col1\" class=\"data row4 col1\" >-0.102773</td>\n",
       "      <td id=\"T_54af7_row4_col2\" class=\"data row4 col2\" >-0.008446</td>\n",
       "      <td id=\"T_54af7_row4_col3\" class=\"data row4 col3\" >-0.087807</td>\n",
       "      <td id=\"T_54af7_row4_col4\" class=\"data row4 col4\" >1.000000</td>\n",
       "      <td id=\"T_54af7_row4_col5\" class=\"data row4 col5\" >-0.023472</td>\n",
       "      <td id=\"T_54af7_row4_col6\" class=\"data row4 col6\" >-0.141228</td>\n",
       "      <td id=\"T_54af7_row4_col7\" class=\"data row4 col7\" >-0.181758</td>\n",
       "    </tr>\n",
       "    <tr>\n",
       "      <th id=\"T_54af7_level0_row5\" class=\"row_heading level0 row5\" >dificuldade_atividades_diarias</th>\n",
       "      <td id=\"T_54af7_row5_col0\" class=\"data row5 col0\" >-0.028910</td>\n",
       "      <td id=\"T_54af7_row5_col1\" class=\"data row5 col1\" >0.053047</td>\n",
       "      <td id=\"T_54af7_row5_col2\" class=\"data row5 col2\" >0.019911</td>\n",
       "      <td id=\"T_54af7_row5_col3\" class=\"data row5 col3\" >0.295724</td>\n",
       "      <td id=\"T_54af7_row5_col4\" class=\"data row5 col4\" >-0.023472</td>\n",
       "      <td id=\"T_54af7_row5_col5\" class=\"data row5 col5\" >1.000000</td>\n",
       "      <td id=\"T_54af7_row5_col6\" class=\"data row5 col6\" >-0.023228</td>\n",
       "      <td id=\"T_54af7_row5_col7\" class=\"data row5 col7\" >-0.011220</td>\n",
       "    </tr>\n",
       "    <tr>\n",
       "      <th id=\"T_54af7_level0_row6\" class=\"row_heading level0 row6\" >populacao</th>\n",
       "      <td id=\"T_54af7_row6_col0\" class=\"data row6 col0\" >0.084550</td>\n",
       "      <td id=\"T_54af7_row6_col1\" class=\"data row6 col1\" >-0.002253</td>\n",
       "      <td id=\"T_54af7_row6_col2\" class=\"data row6 col2\" >-0.003921</td>\n",
       "      <td id=\"T_54af7_row6_col3\" class=\"data row6 col3\" >0.052188</td>\n",
       "      <td id=\"T_54af7_row6_col4\" class=\"data row6 col4\" >-0.141228</td>\n",
       "      <td id=\"T_54af7_row6_col5\" class=\"data row6 col5\" >-0.023228</td>\n",
       "      <td id=\"T_54af7_row6_col6\" class=\"data row6 col6\" >1.000000</td>\n",
       "      <td id=\"T_54af7_row6_col7\" class=\"data row6 col7\" >0.032210</td>\n",
       "    </tr>\n",
       "    <tr>\n",
       "      <th id=\"T_54af7_level0_row7\" class=\"row_heading level0 row7\" >renda_per_capita</th>\n",
       "      <td id=\"T_54af7_row7_col0\" class=\"data row7 col0\" >-0.153723</td>\n",
       "      <td id=\"T_54af7_row7_col1\" class=\"data row7 col1\" >0.136378</td>\n",
       "      <td id=\"T_54af7_row7_col2\" class=\"data row7 col2\" >-0.003479</td>\n",
       "      <td id=\"T_54af7_row7_col3\" class=\"data row7 col3\" >0.162242</td>\n",
       "      <td id=\"T_54af7_row7_col4\" class=\"data row7 col4\" >-0.181758</td>\n",
       "      <td id=\"T_54af7_row7_col5\" class=\"data row7 col5\" >-0.011220</td>\n",
       "      <td id=\"T_54af7_row7_col6\" class=\"data row7 col6\" >0.032210</td>\n",
       "      <td id=\"T_54af7_row7_col7\" class=\"data row7 col7\" >1.000000</td>\n",
       "    </tr>\n",
       "  </tbody>\n",
       "</table>\n"
      ],
      "text/plain": [
       "<pandas.io.formats.style.Styler at 0x2833f7100>"
      ]
     },
     "execution_count": 13,
     "metadata": {},
     "output_type": "execute_result"
    }
   ],
   "source": [
    "\n",
    "corr = data.corr()\n",
    "corr.style.background_gradient(cmap='coolwarm')"
   ]
  },
  {
   "cell_type": "code",
   "execution_count": 14,
   "metadata": {},
   "outputs": [
    {
     "data": {
      "text/html": [
       "<div>\n",
       "<style scoped>\n",
       "    .dataframe tbody tr th:only-of-type {\n",
       "        vertical-align: middle;\n",
       "    }\n",
       "\n",
       "    .dataframe tbody tr th {\n",
       "        vertical-align: top;\n",
       "    }\n",
       "\n",
       "    .dataframe thead th {\n",
       "        text-align: right;\n",
       "    }\n",
       "</style>\n",
       "<table border=\"1\" class=\"dataframe\">\n",
       "  <thead>\n",
       "    <tr style=\"text-align: right;\">\n",
       "      <th></th>\n",
       "      <th>internet</th>\n",
       "    </tr>\n",
       "  </thead>\n",
       "  <tbody>\n",
       "    <tr>\n",
       "      <th>internet</th>\n",
       "      <td>1.000000</td>\n",
       "    </tr>\n",
       "    <tr>\n",
       "      <th>renda_per_capita</th>\n",
       "      <td>0.136378</td>\n",
       "    </tr>\n",
       "    <tr>\n",
       "      <th>dificuldade_atividades_diarias</th>\n",
       "      <td>0.053047</td>\n",
       "    </tr>\n",
       "    <tr>\n",
       "      <th>gender</th>\n",
       "      <td>0.027505</td>\n",
       "    </tr>\n",
       "    <tr>\n",
       "      <th>populacao</th>\n",
       "      <td>-0.002253</td>\n",
       "    </tr>\n",
       "    <tr>\n",
       "      <th>race</th>\n",
       "      <td>-0.102773</td>\n",
       "    </tr>\n",
       "    <tr>\n",
       "      <th>age</th>\n",
       "      <td>-0.124535</td>\n",
       "    </tr>\n",
       "    <tr>\n",
       "      <th>house_type</th>\n",
       "      <td>-0.376425</td>\n",
       "    </tr>\n",
       "  </tbody>\n",
       "</table>\n",
       "</div>"
      ],
      "text/plain": [
       "                                internet\n",
       "internet                        1.000000\n",
       "renda_per_capita                0.136378\n",
       "dificuldade_atividades_diarias  0.053047\n",
       "gender                          0.027505\n",
       "populacao                      -0.002253\n",
       "race                           -0.102773\n",
       "age                            -0.124535\n",
       "house_type                     -0.376425"
      ]
     },
     "execution_count": 14,
     "metadata": {},
     "output_type": "execute_result"
    }
   ],
   "source": [
    "corr = data.corr()[['internet']].sort_values(by='internet',ascending=False)\n",
    "\n",
    "corr.head(10)"
   ]
  },
  {
   "cell_type": "code",
   "execution_count": 15,
   "metadata": {},
   "outputs": [
    {
     "data": {
      "text/plain": [
       "house_type          0\n",
       "internet            0\n",
       "gender              0\n",
       "age                 0\n",
       "race                0\n",
       "populacao           0\n",
       "renda_per_capita    0\n",
       "dtype: int64"
      ]
     },
     "execution_count": 15,
     "metadata": {},
     "output_type": "execute_result"
    }
   ],
   "source": [
    "data_clean = data.drop([\"educational_level\", \"dificuldade_atividades_diarias\", \"diabetes_restriction\", 'diabetes_restriction', 'state', 'ultima_consulta_medico'], axis=1)\n",
    "data_clean=data_clean.dropna()\n",
    "data_clean.isna().sum().sort_values()\n",
    "\n"
   ]
  },
  {
   "cell_type": "code",
   "execution_count": 16,
   "metadata": {},
   "outputs": [],
   "source": [
    "logreg=LogisticRegression()"
   ]
  },
  {
   "cell_type": "code",
   "execution_count": 17,
   "metadata": {},
   "outputs": [],
   "source": [
    "X = data_clean.drop(['internet'], axis=1).values\n",
    "y = data_clean['internet'].astype(int).values\n",
    "\n",
    "x_train, x_test, y_train, y_test = train_test_split(X, y, test_size =0.3, random_state=42)\n"
   ]
  },
  {
   "cell_type": "code",
   "execution_count": 18,
   "metadata": {},
   "outputs": [
    {
     "data": {
      "text/html": [
       "<style>#sk-container-id-1 {color: black;background-color: white;}#sk-container-id-1 pre{padding: 0;}#sk-container-id-1 div.sk-toggleable {background-color: white;}#sk-container-id-1 label.sk-toggleable__label {cursor: pointer;display: block;width: 100%;margin-bottom: 0;padding: 0.3em;box-sizing: border-box;text-align: center;}#sk-container-id-1 label.sk-toggleable__label-arrow:before {content: \"▸\";float: left;margin-right: 0.25em;color: #696969;}#sk-container-id-1 label.sk-toggleable__label-arrow:hover:before {color: black;}#sk-container-id-1 div.sk-estimator:hover label.sk-toggleable__label-arrow:before {color: black;}#sk-container-id-1 div.sk-toggleable__content {max-height: 0;max-width: 0;overflow: hidden;text-align: left;background-color: #f0f8ff;}#sk-container-id-1 div.sk-toggleable__content pre {margin: 0.2em;color: black;border-radius: 0.25em;background-color: #f0f8ff;}#sk-container-id-1 input.sk-toggleable__control:checked~div.sk-toggleable__content {max-height: 200px;max-width: 100%;overflow: auto;}#sk-container-id-1 input.sk-toggleable__control:checked~label.sk-toggleable__label-arrow:before {content: \"▾\";}#sk-container-id-1 div.sk-estimator input.sk-toggleable__control:checked~label.sk-toggleable__label {background-color: #d4ebff;}#sk-container-id-1 div.sk-label input.sk-toggleable__control:checked~label.sk-toggleable__label {background-color: #d4ebff;}#sk-container-id-1 input.sk-hidden--visually {border: 0;clip: rect(1px 1px 1px 1px);clip: rect(1px, 1px, 1px, 1px);height: 1px;margin: -1px;overflow: hidden;padding: 0;position: absolute;width: 1px;}#sk-container-id-1 div.sk-estimator {font-family: monospace;background-color: #f0f8ff;border: 1px dotted black;border-radius: 0.25em;box-sizing: border-box;margin-bottom: 0.5em;}#sk-container-id-1 div.sk-estimator:hover {background-color: #d4ebff;}#sk-container-id-1 div.sk-parallel-item::after {content: \"\";width: 100%;border-bottom: 1px solid gray;flex-grow: 1;}#sk-container-id-1 div.sk-label:hover label.sk-toggleable__label {background-color: #d4ebff;}#sk-container-id-1 div.sk-serial::before {content: \"\";position: absolute;border-left: 1px solid gray;box-sizing: border-box;top: 0;bottom: 0;left: 50%;z-index: 0;}#sk-container-id-1 div.sk-serial {display: flex;flex-direction: column;align-items: center;background-color: white;padding-right: 0.2em;padding-left: 0.2em;position: relative;}#sk-container-id-1 div.sk-item {position: relative;z-index: 1;}#sk-container-id-1 div.sk-parallel {display: flex;align-items: stretch;justify-content: center;background-color: white;position: relative;}#sk-container-id-1 div.sk-item::before, #sk-container-id-1 div.sk-parallel-item::before {content: \"\";position: absolute;border-left: 1px solid gray;box-sizing: border-box;top: 0;bottom: 0;left: 50%;z-index: -1;}#sk-container-id-1 div.sk-parallel-item {display: flex;flex-direction: column;z-index: 1;position: relative;background-color: white;}#sk-container-id-1 div.sk-parallel-item:first-child::after {align-self: flex-end;width: 50%;}#sk-container-id-1 div.sk-parallel-item:last-child::after {align-self: flex-start;width: 50%;}#sk-container-id-1 div.sk-parallel-item:only-child::after {width: 0;}#sk-container-id-1 div.sk-dashed-wrapped {border: 1px dashed gray;margin: 0 0.4em 0.5em 0.4em;box-sizing: border-box;padding-bottom: 0.4em;background-color: white;}#sk-container-id-1 div.sk-label label {font-family: monospace;font-weight: bold;display: inline-block;line-height: 1.2em;}#sk-container-id-1 div.sk-label-container {text-align: center;}#sk-container-id-1 div.sk-container {/* jupyter's `normalize.less` sets `[hidden] { display: none; }` but bootstrap.min.css set `[hidden] { display: none !important; }` so we also need the `!important` here to be able to override the default hidden behavior on the sphinx rendered scikit-learn.org. See: https://github.com/scikit-learn/scikit-learn/issues/21755 */display: inline-block !important;position: relative;}#sk-container-id-1 div.sk-text-repr-fallback {display: none;}</style><div id=\"sk-container-id-1\" class=\"sk-top-container\"><div class=\"sk-text-repr-fallback\"><pre>LogisticRegression()</pre><b>In a Jupyter environment, please rerun this cell to show the HTML representation or trust the notebook. <br />On GitHub, the HTML representation is unable to render, please try loading this page with nbviewer.org.</b></div><div class=\"sk-container\" hidden><div class=\"sk-item\"><div class=\"sk-estimator sk-toggleable\"><input class=\"sk-toggleable__control sk-hidden--visually\" id=\"sk-estimator-id-1\" type=\"checkbox\" checked><label for=\"sk-estimator-id-1\" class=\"sk-toggleable__label sk-toggleable__label-arrow\">LogisticRegression</label><div class=\"sk-toggleable__content\"><pre>LogisticRegression()</pre></div></div></div></div></div>"
      ],
      "text/plain": [
       "LogisticRegression()"
      ]
     },
     "execution_count": 18,
     "metadata": {},
     "output_type": "execute_result"
    }
   ],
   "source": [
    "logreg.fit(x_train, y_train)"
   ]
  },
  {
   "cell_type": "code",
   "execution_count": 19,
   "metadata": {},
   "outputs": [],
   "source": [
    "y_pred = logreg.predict (x_test)\n"
   ]
  },
  {
   "cell_type": "code",
   "execution_count": 20,
   "metadata": {},
   "outputs": [
    {
     "name": "stdout",
     "output_type": "stream",
     "text": [
      "0.656563885777937\n"
     ]
    }
   ],
   "source": [
    "y_pred_prob = logreg.predict_proba (x_test) [ :, 1]\n",
    "print (y_pred_prob[0])\n"
   ]
  },
  {
   "cell_type": "code",
   "execution_count": 21,
   "metadata": {},
   "outputs": [
    {
     "name": "stdout",
     "output_type": "stream",
     "text": [
      "0.6684199878038368\n",
      "[[    0 16640]\n",
      " [    0 67116]]\n",
      "              precision    recall  f1-score   support\n",
      "\n",
      "           0       0.00      0.00      0.00     16640\n",
      "           1       0.80      1.00      0.89     67116\n",
      "\n",
      "    accuracy                           0.80     83756\n",
      "   macro avg       0.40      0.50      0.44     83756\n",
      "weighted avg       0.64      0.80      0.71     83756\n",
      "\n"
     ]
    },
    {
     "name": "stderr",
     "output_type": "stream",
     "text": [
      "/Users/luisnakayama/miniforge3/lib/python3.9/site-packages/sklearn/metrics/_classification.py:1327: UndefinedMetricWarning: Precision and F-score are ill-defined and being set to 0.0 in labels with no predicted samples. Use `zero_division` parameter to control this behavior.\n",
      "  _warn_prf(average, modifier, msg_start, len(result))\n",
      "/Users/luisnakayama/miniforge3/lib/python3.9/site-packages/sklearn/metrics/_classification.py:1327: UndefinedMetricWarning: Precision and F-score are ill-defined and being set to 0.0 in labels with no predicted samples. Use `zero_division` parameter to control this behavior.\n",
      "  _warn_prf(average, modifier, msg_start, len(result))\n",
      "/Users/luisnakayama/miniforge3/lib/python3.9/site-packages/sklearn/metrics/_classification.py:1327: UndefinedMetricWarning: Precision and F-score are ill-defined and being set to 0.0 in labels with no predicted samples. Use `zero_division` parameter to control this behavior.\n",
      "  _warn_prf(average, modifier, msg_start, len(result))\n"
     ]
    }
   ],
   "source": [
    "from sklearn.metrics import roc_auc_score\n",
    " \n",
    "# Calculate roc_auc_score\n",
    "print(roc_auc_score(y_test, y_pred_prob))\n",
    " \n",
    "# Calculate the confusion matrix\n",
    "print(confusion_matrix(y_test,y_pred))\n",
    " \n",
    "# Calculate the classification report\n",
    "print(classification_report(y_test,y_pred))"
   ]
  },
  {
   "cell_type": "code",
   "execution_count": 22,
   "metadata": {},
   "outputs": [
    {
     "data": {
      "text/plain": [
       "0.8013276660776542"
      ]
     },
     "execution_count": 22,
     "metadata": {},
     "output_type": "execute_result"
    }
   ],
   "source": [
    "logreg.score(x_test, y_test)"
   ]
  },
  {
   "cell_type": "code",
   "execution_count": 23,
   "metadata": {},
   "outputs": [
    {
     "name": "stdout",
     "output_type": "stream",
     "text": [
      "[[4.28293508e-07 8.95807938e-07 1.53286364e-05 1.44584991e-06\n",
      "  3.80276443e-08 1.23356819e-03]]\n"
     ]
    }
   ],
   "source": [
    "print(logreg.coef_)"
   ]
  }
 ],
 "metadata": {
  "interpreter": {
   "hash": "37067346aeabd3ec11f0d6a36e38dc9f30d97b42052578929dcbc8116d3c71fd"
  },
  "kernelspec": {
   "display_name": "Python 3.9.13 ('base')",
   "language": "python",
   "name": "python3"
  },
  "language_info": {
   "codemirror_mode": {
    "name": "ipython",
    "version": 3
   },
   "file_extension": ".py",
   "mimetype": "text/x-python",
   "name": "python",
   "nbconvert_exporter": "python",
   "pygments_lexer": "ipython3",
   "version": "3.9.13"
  },
  "orig_nbformat": 4
 },
 "nbformat": 4,
 "nbformat_minor": 2
}
